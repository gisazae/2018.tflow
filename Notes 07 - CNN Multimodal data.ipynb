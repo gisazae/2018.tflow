{
 "cells": [
  {
   "cell_type": "code",
   "execution_count": 1,
   "metadata": {},
   "outputs": [],
   "source": [
    "import tensorflow as tf\n",
    "import numpy as np\n",
    "import matplotlib.pyplot as plt\n",
    "import pandas as pd\n",
    "from time import time\n",
    "import tflearn, psutil, gc\n",
    "from datetime import datetime\n",
    "%matplotlib inline"
   ]
  },
  {
   "cell_type": "code",
   "execution_count": 2,
   "metadata": {},
   "outputs": [],
   "source": [
    "from tflearn.layers.core import input_data, dropout, fully_connected\n",
    "from tflearn.layers.conv import conv_2d, max_pool_2d\n",
    "from tflearn.layers.normalization import local_response_normalization\n",
    "from tflearn.layers.estimator import regression"
   ]
  },
  {
   "cell_type": "code",
   "execution_count": 3,
   "metadata": {},
   "outputs": [
    {
     "name": "stdout",
     "output_type": "stream",
     "text": [
      "free mem 1.41 GB\n"
     ]
    }
   ],
   "source": [
    "from rlx.utils import humanbytes\n",
    "print \"free mem\", humanbytes(psutil.virtual_memory().free)"
   ]
  },
  {
   "cell_type": "markdown",
   "metadata": {},
   "source": [
    "## Load dataset"
   ]
  },
  {
   "cell_type": "code",
   "execution_count": 4,
   "metadata": {},
   "outputs": [
    {
     "name": "stdout",
     "output_type": "stream",
     "text": [
      "Successfully downloaded train-images-idx3-ubyte.gz 9912422 bytes.\n",
      "Extracting /tmp/MNIST_data/train-images-idx3-ubyte.gz\n",
      "Successfully downloaded train-labels-idx1-ubyte.gz 28881 bytes.\n",
      "Extracting /tmp/MNIST_data/train-labels-idx1-ubyte.gz\n",
      "Successfully downloaded t10k-images-idx3-ubyte.gz 1648877 bytes.\n",
      "Extracting /tmp/MNIST_data/t10k-images-idx3-ubyte.gz\n",
      "Successfully downloaded t10k-labels-idx1-ubyte.gz 4542 bytes.\n",
      "Extracting /tmp/MNIST_data/t10k-labels-idx1-ubyte.gz\n",
      "free mem 1.15 GB\n"
     ]
    }
   ],
   "source": [
    "from tensorflow.examples.tutorials.mnist.input_data import read_data_sets\n",
    "mnist = read_data_sets(\"/tmp/MNIST_data/\", one_hot=True, reshape=False, validation_size=0)\n",
    "print \"free mem\", humanbytes(psutil.virtual_memory().free)"
   ]
  },
  {
   "cell_type": "code",
   "execution_count": 5,
   "metadata": {},
   "outputs": [
    {
     "name": "stdout",
     "output_type": "stream",
     "text": [
      "(60000, 28, 28, 1)\n",
      "(10000, 28, 28, 1)\n"
     ]
    }
   ],
   "source": [
    "print mnist.train.images.shape\n",
    "print mnist.test.images.shape"
   ]
  },
  {
   "cell_type": "markdown",
   "metadata": {},
   "source": [
    "### observe we create `train_info` and `test_info` var\n",
    "\n",
    "we are simulating we have **additional scalar information** about each image, specifying whether the number is odd or even:\n",
    "\n",
    "- -1 represents an **even** digit\n",
    "- +1 represents an **odd** digit"
   ]
  },
  {
   "cell_type": "code",
   "execution_count": 6,
   "metadata": {},
   "outputs": [
    {
     "name": "stdout",
     "output_type": "stream",
     "text": [
      "train labels [4 7 4 2 4 3 2 3 4 7]\n",
      "train info   [-1  1 -1 -1 -1  1 -1  1 -1  1]\n"
     ]
    }
   ],
   "source": [
    "# number of images used for training and test\n",
    "n=10000\n",
    "\n",
    "idxs = np.random.permutation(range(len(mnist.train.images)))[:n]\n",
    "train_imgs = mnist.train.images[idxs]\n",
    "train_ohlabs = mnist.train.labels[idxs]\n",
    "train_labels = np.r_[[np.argwhere(i)[0][0] for i in train_ohlabs]]\n",
    "train_info = (train_labels%2)*2-1\n",
    "\n",
    "print \"train labels\", train_labels[:10]\n",
    "print \"train info  \", train_info[:10]"
   ]
  },
  {
   "cell_type": "code",
   "execution_count": 7,
   "metadata": {},
   "outputs": [
    {
     "name": "stdout",
     "output_type": "stream",
     "text": [
      "test labels [4 1 5 9 0 7 0 3 1 3]\n",
      "test info   [-1  1  1  1 -1  1 -1  1  1  1]\n"
     ]
    }
   ],
   "source": [
    "vn = n if n<mnist.test.images.shape[0] else mnist.test.images.shape[0]\n",
    "\n",
    "idxs = np.random.permutation(range(len(mnist.test.images)))[:n]\n",
    "test_imgs = mnist.test.images[idxs]\n",
    "test_ohlabs = mnist.test.labels[idxs]\n",
    "test_labels = np.r_[[np.argwhere(i)[0][0] for i in test_ohlabs]]\n",
    "test_info = (test_labels%2)*2-1\n",
    "\n",
    "print \"test labels\", test_labels[:10]\n",
    "print \"test info  \", test_info[:10]"
   ]
  },
  {
   "cell_type": "code",
   "execution_count": 8,
   "metadata": {},
   "outputs": [
    {
     "name": "stdout",
     "output_type": "stream",
     "text": [
      "(10000, 28, 28, 1) (10000, 28, 28, 1)\n",
      "free mem 1.10 GB\n"
     ]
    }
   ],
   "source": [
    "print train_imgs.shape, test_imgs.shape\n",
    "print \"free mem\", humanbytes(psutil.virtual_memory().free)"
   ]
  },
  {
   "cell_type": "code",
   "execution_count": 9,
   "metadata": {},
   "outputs": [
    {
     "name": "stdout",
     "output_type": "stream",
     "text": [
      "free mem 1.30 GB\n"
     ]
    }
   ],
   "source": [
    "del(mnist)\n",
    "gc.collect()\n",
    "print \"free mem\", humanbytes(psutil.virtual_memory().free)"
   ]
  },
  {
   "cell_type": "code",
   "execution_count": 10,
   "metadata": {},
   "outputs": [
    {
     "name": "stdout",
     "output_type": "stream",
     "text": [
      "1    1154\n",
      "7    1048\n",
      "2    1035\n",
      "6    1018\n",
      "4     995\n",
      "3     975\n",
      "9     972\n",
      "8     971\n",
      "0     960\n",
      "5     872\n",
      "dtype: int64\n",
      "1    1135\n",
      "2    1032\n",
      "7    1028\n",
      "3    1010\n",
      "9    1009\n",
      "4     982\n",
      "0     980\n",
      "8     974\n",
      "6     958\n",
      "5     892\n",
      "dtype: int64\n"
     ]
    }
   ],
   "source": [
    "print pd.Series(train_labels).value_counts()\n",
    "print pd.Series(test_labels).value_counts()"
   ]
  },
  {
   "cell_type": "markdown",
   "metadata": {},
   "source": [
    "### we will inject this information into the computational graph\n",
    "\n",
    "observe that:\n",
    "    \n",
    "- we have two input structures to the graph, `X` and `X_info`.\n",
    "- `X_info` is **injected twice** to *each fully connected layer.\n",
    "- we mix `tflearn` structures with low level API.\n",
    "- injecting the information just after a convolutional layer requieres _flattening_ the incoming structure to concatenet `X_info`"
   ]
  },
  {
   "cell_type": "code",
   "execution_count": 11,
   "metadata": {},
   "outputs": [],
   "source": [
    "def get_TF_graph():\n",
    "    tf.reset_default_graph()\n",
    "\n",
    "    with tf.name_scope(\"data\"):\n",
    "        X = tf.placeholder(tf.float32, [None, 28, 28, 1])\n",
    "        X_info = tf.placeholder(tf.float32, [None, 1])\n",
    "        \n",
    "        Y = tf.placeholder(tf.float32, [None, 10])\n",
    "        network = tf.reshape(X, [-1, 28, 28, 1])\n",
    "\n",
    "    with tf.name_scope(\"layers\"):\n",
    "        network = conv_2d(network, 9, 5, strides=1, activation='relu', name=\"conv1\", padding=\"SAME\")\n",
    "        network = conv_2d(network, 18, 4, strides=2, activation='relu', name=\"conv2\", padding=\"SAME\")\n",
    "        network = tf.reshape(network, [-1, 3528])\n",
    "        network = tf.concat((X_info, network), axis=1)\n",
    "        network = fully_connected(network, 100, activation='relu', name='fc1')\n",
    "        network = tf.concat((X_info, network), axis=1)\n",
    "        y_hat   = fully_connected(network, 10, activation='softmax', name='fc2')\n",
    "\n",
    "    with tf.name_scope(\"loss\"):\n",
    "        cross_entropy = tf.nn.softmax_cross_entropy_with_logits(logits=y_hat, labels=Y)\n",
    "        loss          = tf.reduce_mean(cross_entropy)*100\n",
    "\n",
    "    with tf.name_scope(\"accuracy\"):\n",
    "        correct_pred = tf.equal(tf.argmax(y_hat, 1), tf.argmax(Y, 1))\n",
    "        accuracy     = tf.reduce_mean(tf.cast(correct_pred, tf.float32))    \n",
    "    \n",
    "    with tf.name_scope(\"optimizer\"):\n",
    "        train_step = tf.train.AdamOptimizer().minimize(loss)\n",
    "        \n",
    "    return X, Y, X_info, y_hat, loss, train_step, accuracy"
   ]
  },
  {
   "cell_type": "markdown",
   "metadata": {},
   "source": [
    "### observe now that both fully connected layers have one additional neuron"
   ]
  },
  {
   "cell_type": "code",
   "execution_count": 12,
   "metadata": {},
   "outputs": [
    {
     "name": "stdout",
     "output_type": "stream",
     "text": [
      "WARNING:tensorflow:From /opt/miniconda/lib/python2.7/site-packages/tflearn/initializations.py:119: __init__ (from tensorflow.python.ops.init_ops) is deprecated and will be removed in a future version.\n",
      "Instructions for updating:\n",
      "Use tf.initializers.variance_scaling instead with distribution=uniform to get equivalent behavior.\n"
     ]
    },
    {
     "data": {
      "text/plain": [
       "[<tf.Variable 'conv1/W:0' shape=(5, 5, 1, 9) dtype=float32_ref>,\n",
       " <tf.Variable 'conv1/b:0' shape=(9,) dtype=float32_ref>,\n",
       " <tf.Variable 'conv2/W:0' shape=(4, 4, 9, 18) dtype=float32_ref>,\n",
       " <tf.Variable 'conv2/b:0' shape=(18,) dtype=float32_ref>,\n",
       " <tf.Variable 'fc1/W:0' shape=(3529, 100) dtype=float32_ref>,\n",
       " <tf.Variable 'fc1/b:0' shape=(100,) dtype=float32_ref>,\n",
       " <tf.Variable 'fc2/W:0' shape=(101, 10) dtype=float32_ref>,\n",
       " <tf.Variable 'fc2/b:0' shape=(10,) dtype=float32_ref>]"
      ]
     },
     "execution_count": 12,
     "metadata": {},
     "output_type": "execute_result"
    }
   ],
   "source": [
    "model = get_TF_graph()\n",
    "tflearn.variables.get_all_trainable_variable()"
   ]
  },
  {
   "cell_type": "markdown",
   "metadata": {},
   "source": [
    "### fitting now requires the additional info all allong"
   ]
  },
  {
   "cell_type": "code",
   "execution_count": 13,
   "metadata": {},
   "outputs": [],
   "source": [
    "def fit (X, Y, X_info,\n",
    "         X_train, y_train, X_train_info, X_test, y_test, X_test_info,\n",
    "         model_name, loss, train_step, accuracy, \n",
    "         batch_size, n_epochs, log_freq):\n",
    "    \n",
    "    saver = tf.train.Saver()\n",
    "    \n",
    "    # Initialize the variables (i.e. assign their default value)\n",
    "    init = tf.global_variables_initializer()\n",
    "    log_train, log_test = [], []\n",
    "\n",
    "    # Start training\n",
    "    from rlx.ml import Batches\n",
    "    from time import time\n",
    "\n",
    "    with tf.Session() as sess:\n",
    "        from datetime import datetime\n",
    "\n",
    "        model_name = model_name + \"_\" + datetime.now().strftime(\"%Y-%m-%d_%H:%M\")\n",
    "        \n",
    "        sess.run(init)\n",
    "\n",
    "        step = 1\n",
    "        t1 = time()\n",
    "        for epoch in range(1,n_epochs+1):\n",
    "            ndata = 0\n",
    "            for batch_X, batch_X_info, batch_y in Batches([X_train, X_train_info, y_train], \n",
    "                                                          batch_size=batch_size, \n",
    "                                                          n_epochs=1, shuffle=True).get():\n",
    "                ndata += len(batch_X)\n",
    "                # Run optimization \n",
    "                train_acc, _ = sess.run([accuracy, train_step], \n",
    "                                         feed_dict={X: batch_X, Y: batch_y,\n",
    "                                                    X_info: batch_X_info.reshape(-1,1)})\n",
    "                t2 = time()\n",
    "                log_train.append([step, t2-t1, train_acc])\n",
    "                print \"\\repoch %3d/%d step %5d: train acc: %.4f, time: %.3f segs, %7d/%d\"%\\\n",
    "                      (epoch, n_epochs, step, train_acc, (t2-t1), ndata, len(train_imgs)),    \n",
    "\n",
    "                if step%log_freq==0:\n",
    "                    idxs = np.random.permutation(range(len(X_test)))[:1000] \n",
    "                                        \n",
    "                    test_acc = sess.run(accuracy, feed_dict = {X: X_test[idxs], \n",
    "                                                               Y: y_test[idxs],\n",
    "                                                               X_info: X_test_info[idxs].reshape(-1,1)})\n",
    "\n",
    "                    print \"\\repoch %3d/%d step %5d: train acc: %.4f, test acc: %.4f, time: %.3f segs, %d data items\"%\\\n",
    "                          (epoch, n_epochs, step, train_acc, test_acc, (t2-t1), ndata)     \n",
    "\n",
    "                    log_test.append([step, t2-t1, test_acc])\n",
    "                    saver.save(sess, \"models/\"+model_name+\".tf\")\n",
    "\n",
    "                step += 1\n",
    "\n",
    "        print(\"Optimization Finished!\")\n",
    "\n",
    "        # Calculate accuracy for test images by batches (for low memory)\n",
    "        test_acc = 0\n",
    "        for batch_X, batch_X_info, batch_y in Batches([X_test, X_test_info, y_test], batch_size=batch_size, n_epochs=1).get():\n",
    "            test_acc += sess.run(accuracy, feed_dict={X: batch_X, \n",
    "                                                      Y: batch_y, \n",
    "                                                      X_info: batch_X_info.reshape(-1,1)})*len(batch_X)/len(X_test)\n",
    "            \n",
    "        print(\"Testing Accuracy:\", test_acc)\n",
    "\n",
    "        saver.save(sess, \"models/\"+model_name+\".tf\")\n",
    "        log_train = pd.DataFrame(log_train, columns=[\"step\", \"time\", \"accuracy\"])\n",
    "        log_test  = pd.DataFrame(log_test, columns=[\"step\", \"time\", \"accuracy\"])\n",
    "    return log_train, log_test, model_name\n",
    "\n",
    "def plot_results(log_train, log_test):\n",
    "    k = log_train.rolling(window=10).mean().dropna()\n",
    "    plt.plot(k.time, k.accuracy, color=\"blue\", lw=2, label=\"train\")\n",
    "    plt.plot(log_test.time, log_test.accuracy, color=\"red\",lw=2, label=\"test\")\n",
    "    plt.legend(loc=\"center left\", bbox_to_anchor=(1,.5))\n",
    "    plt.plot(log_train.time, log_train.accuracy, alpha=.3, color=\"blue\")\n",
    "    plt.grid()\n",
    "    plt.xlabel(\"elapsed time (secs)\")\n",
    "    plt.ylabel(\"accuracy\")\n",
    "    plt.axhline(0.5, color=\"black\")\n",
    "    plt.ylim(0.8,1.)\n",
    "    plt.xlim(0,log_train.time.max()+1)\n",
    "    plt.title(\"final train_acc=%.4f, test_acc=%.4f\"%(log_train.accuracy.values[-1], log_test.accuracy.values[-1]))"
   ]
  },
  {
   "cell_type": "code",
   "execution_count": 14,
   "metadata": {},
   "outputs": [
    {
     "name": "stdout",
     "output_type": "stream",
     "text": [
      "free mem 1.29 GB\n"
     ]
    }
   ],
   "source": [
    "X, Y, X_info, y_hat, loss, train_step, accuracy = get_TF_graph()\n",
    "print \"free mem\", humanbytes(psutil.virtual_memory().free)"
   ]
  },
  {
   "cell_type": "code",
   "execution_count": 15,
   "metadata": {},
   "outputs": [
    {
     "data": {
      "text/plain": [
       "((10000, 28, 28, 1), (10000, 10), (10000,))"
      ]
     },
     "execution_count": 15,
     "metadata": {},
     "output_type": "execute_result"
    }
   ],
   "source": [
    "train_imgs.shape, train_ohlabs.shape, train_info.shape"
   ]
  },
  {
   "cell_type": "code",
   "execution_count": 16,
   "metadata": {},
   "outputs": [
    {
     "name": "stderr",
     "output_type": "stream",
     "text": [
      "/opt/miniconda/lib/python2.7/site-packages/statsmodels/compat/pandas.py:56: FutureWarning: The pandas.core.datetools module is deprecated and will be removed in a future version. Please use the pandas.tseries module instead.\n",
      "  from pandas.core import datetools\n"
     ]
    },
    {
     "name": "stdout",
     "output_type": "stream",
     "text": [
      "epoch   1/15 step   100: train acc: 0.8300, test acc: 0.8750, time: 9.835 segs, 10000 data items               \n",
      "epoch   2/15 step   200: train acc: 0.8800, test acc: 0.9170, time: 21.012 segs, 10000 data items                    \n",
      "epoch   3/15 step   300: train acc: 0.9700, test acc: 0.9230, time: 33.060 segs, 10000 data items                        \n",
      "epoch   4/15 step   400: train acc: 0.9300, test acc: 0.9390, time: 44.843 segs, 10000 data items                     \n",
      "epoch   5/15 step   500: train acc: 0.9800, test acc: 0.9450, time: 56.459 segs, 10000 data items                       \n",
      "epoch   6/15 step   600: train acc: 0.9500, test acc: 0.9510, time: 67.573 segs, 10000 data items                   \n",
      "epoch   7/15 step   700: train acc: 0.9800, test acc: 0.9720, time: 78.619 segs, 10000 data items                   \n",
      "epoch   8/15 step   800: train acc: 0.9900, test acc: 0.9760, time: 88.864 segs, 10000 data items                \n",
      "epoch   9/15 step   900: train acc: 0.9800, test acc: 0.9650, time: 98.818 segs, 10000 data items                \n",
      "epoch  10/15 step  1000: train acc: 1.0000, test acc: 0.9760, time: 108.961 segs, 10000 data items               \n",
      "epoch  11/15 step  1100: train acc: 0.9900, test acc: 0.9750, time: 119.540 segs, 10000 data items                 \n",
      "epoch  12/15 step  1200: train acc: 0.9800, test acc: 0.9780, time: 130.693 segs, 10000 data items                 \n",
      "epoch  13/15 step  1300: train acc: 1.0000, test acc: 0.9770, time: 141.085 segs, 10000 data items                 \n",
      "epoch  14/15 step  1400: train acc: 0.9900, test acc: 0.9740, time: 151.514 segs, 10000 data items                 \n",
      "epoch  15/15 step  1500: train acc: 0.9900, test acc: 0.9760, time: 162.014 segs, 10000 data items                 \n",
      "Optimization Finished!\n",
      "('Testing Accuracy:', 0.97390001058578535)\n",
      "free mem 1.02 GB\n"
     ]
    },
    {
     "data": {
      "image/png": "[encoded data removed]",
      "text/plain": [
       "<matplotlib.figure.Figure at 0x7f79ece25850>"
      ]
     },
     "metadata": {},
     "output_type": "display_data"
    }
   ],
   "source": [
    "log_train, log_test, model_name = fit(X, Y, X_info,\n",
    "                                      train_imgs, train_ohlabs, train_info,\n",
    "                                      test_imgs, test_ohlabs, test_info,\n",
    "                                      \"extended_cnn_mnist\", loss, train_step, accuracy,\n",
    "                                      batch_size=100, n_epochs=15, log_freq=100)\n",
    "\n",
    "plot_results(log_train, log_test)\n",
    "print \"free mem\", humanbytes(psutil.virtual_memory().free)"
   ]
  },
  {
   "cell_type": "code",
   "execution_count": null,
   "metadata": {},
   "outputs": [],
   "source": []
  }
 ],
 "metadata": {
  "kernelspec": {
   "display_name": "Python 2",
   "language": "python",
   "name": "python2"
  },
  "language_info": {
   "codemirror_mode": {
    "name": "ipython",
    "version": 2
   },
   "file_extension": ".py",
   "mimetype": "text/x-python",
   "name": "python",
   "nbconvert_exporter": "python",
   "pygments_lexer": "ipython2",
   "version": "2.7.14"
  }
 },
 "nbformat": 4,
 "nbformat_minor": 2
}

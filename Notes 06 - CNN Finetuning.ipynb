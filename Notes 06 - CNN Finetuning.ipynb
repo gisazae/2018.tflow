{
 "cells": [
  {
   "cell_type": "code",
   "execution_count": 1,
   "metadata": {},
   "outputs": [],
   "source": [
    "import tensorflow as tf\n",
    "import numpy as np\n",
    "import matplotlib.pyplot as plt\n",
    "import pandas as pd\n",
    "from time import time\n",
    "import tflearn, psutil, gc\n",
    "from datetime import datetime\n",
    "import h5py\n",
    "%matplotlib inline"
   ]
  },
  {
   "cell_type": "code",
   "execution_count": 2,
   "metadata": {},
   "outputs": [],
   "source": [
    "from tflearn.layers.core import input_data, dropout, fully_connected\n",
    "from tflearn.layers.conv import conv_2d, max_pool_2d\n",
    "from tflearn.layers.normalization import local_response_normalization\n",
    "from tflearn.layers.estimator import regression"
   ]
  },
  {
   "cell_type": "code",
   "execution_count": 3,
   "metadata": {},
   "outputs": [
    {
     "name": "stdout",
     "output_type": "stream",
     "text": [
      "free mem 1.35 GB\n"
     ]
    }
   ],
   "source": [
    "from rlx.utils import humanbytes\n",
    "print \"free mem\", humanbytes(psutil.virtual_memory().free)"
   ]
  },
  {
   "cell_type": "markdown",
   "metadata": {},
   "source": [
    "# We will be creating the same CNN  for classify MNIST as in previous notes\n",
    "\n",
    "## load the data"
   ]
  },
  {
   "cell_type": "code",
   "execution_count": 4,
   "metadata": {},
   "outputs": [
    {
     "name": "stdout",
     "output_type": "stream",
     "text": [
      "Extracting /tmp/MNIST_data/train-images-idx3-ubyte.gz\n",
      "Extracting /tmp/MNIST_data/train-labels-idx1-ubyte.gz\n",
      "Extracting /tmp/MNIST_data/t10k-images-idx3-ubyte.gz\n",
      "Extracting /tmp/MNIST_data/t10k-labels-idx1-ubyte.gz\n",
      "free mem 1.11 GB\n"
     ]
    }
   ],
   "source": [
    "from tensorflow.examples.tutorials.mnist.input_data import read_data_sets\n",
    "mnist = read_data_sets(\"/tmp/MNIST_data/\", one_hot=True, reshape=False, validation_size=0)\n",
    "print \"free mem\", humanbytes(psutil.virtual_memory().free)"
   ]
  },
  {
   "cell_type": "code",
   "execution_count": 5,
   "metadata": {},
   "outputs": [
    {
     "name": "stdout",
     "output_type": "stream",
     "text": [
      "(60000, 28, 28, 1)\n",
      "(10000, 28, 28, 1)\n"
     ]
    }
   ],
   "source": [
    "print mnist.train.images.shape\n",
    "print mnist.test.images.shape"
   ]
  },
  {
   "cell_type": "code",
   "execution_count": 6,
   "metadata": {},
   "outputs": [],
   "source": [
    "# number of images used for training and test\n",
    "n=10000\n",
    "\n",
    "idxs = np.random.permutation(range(len(mnist.train.images)))[:n]\n",
    "train_imgs = mnist.train.images[idxs]\n",
    "train_ohlabs = mnist.train.labels[idxs]\n",
    "train_labels = np.r_[[np.argwhere(i)[0][0] for i in train_ohlabs]]"
   ]
  },
  {
   "cell_type": "code",
   "execution_count": 7,
   "metadata": {},
   "outputs": [],
   "source": [
    "vn = n if n<mnist.test.images.shape[0] else mnist.test.images.shape[0]\n",
    "\n",
    "idxs = np.random.permutation(range(len(mnist.test.images)))[:n]\n",
    "test_imgs = mnist.test.images[idxs]\n",
    "test_ohlabs = mnist.test.labels[idxs]\n",
    "test_labels = np.r_[[np.argwhere(i)[0][0] for i in test_ohlabs]]"
   ]
  },
  {
   "cell_type": "code",
   "execution_count": 8,
   "metadata": {},
   "outputs": [
    {
     "name": "stdout",
     "output_type": "stream",
     "text": [
      "(10000, 28, 28, 1) (10000, 28, 28, 1)\n",
      "free mem 1.07 GB\n"
     ]
    }
   ],
   "source": [
    "print train_imgs.shape, test_imgs.shape\n",
    "print \"free mem\", humanbytes(psutil.virtual_memory().free)"
   ]
  },
  {
   "cell_type": "code",
   "execution_count": 9,
   "metadata": {},
   "outputs": [
    {
     "name": "stdout",
     "output_type": "stream",
     "text": [
      "free mem 1.27 GB\n"
     ]
    }
   ],
   "source": [
    "del(mnist)\n",
    "gc.collect()\n",
    "print \"free mem\", humanbytes(psutil.virtual_memory().free)"
   ]
  },
  {
   "cell_type": "code",
   "execution_count": 10,
   "metadata": {},
   "outputs": [
    {
     "name": "stdout",
     "output_type": "stream",
     "text": [
      "1    1116\n",
      "7    1044\n",
      "0    1033\n",
      "6    1023\n",
      "2    1014\n",
      "3     996\n",
      "9     989\n",
      "4     986\n",
      "8     928\n",
      "5     871\n",
      "dtype: int64\n",
      "1    1135\n",
      "2    1032\n",
      "7    1028\n",
      "3    1010\n",
      "9    1009\n",
      "4     982\n",
      "0     980\n",
      "8     974\n",
      "6     958\n",
      "5     892\n",
      "dtype: int64\n"
     ]
    }
   ],
   "source": [
    "print pd.Series(train_labels).value_counts()\n",
    "print pd.Series(test_labels).value_counts()"
   ]
  },
  {
   "cell_type": "markdown",
   "metadata": {},
   "source": [
    "## use `tflearn` to create network\n",
    "\n",
    "observe we set `verbose=3` to monitor weights evolution during training"
   ]
  },
  {
   "cell_type": "code",
   "execution_count": 42,
   "metadata": {},
   "outputs": [],
   "source": [
    "def get_model():\n",
    "    num_classes = 10\n",
    "\n",
    "    tf.reset_default_graph()\n",
    "\n",
    "    network1 = input_data(shape=[None, 28, 28, 1])\n",
    "    network2 = conv_2d(network1, 9, 5, strides=1, activation='relu', name=\"conv1\", padding=\"SAME\")\n",
    "    network3 = conv_2d(network2, 18, 4, strides=2, activation='relu', name=\"conv2\", padding=\"SAME\")\n",
    "    network4 = fully_connected(network3, 100, activation='relu', name='fc1')\n",
    "    network5 = fully_connected(network4, 10, activation='softmax', name='fc2')\n",
    "    network6 = regression(network5, optimizer=\"adam\",  loss='categorical_crossentropy')\n",
    "\n",
    "    model   = tflearn.DNN(network6, tensorboard_verbose=3, tensorboard_dir=\"log\")\n",
    "    return model"
   ]
  },
  {
   "cell_type": "code",
   "execution_count": 52,
   "metadata": {},
   "outputs": [
    {
     "name": "stdout",
     "output_type": "stream",
     "text": [
      "free mem 820.15 MB\n"
     ]
    }
   ],
   "source": [
    "gc.collect()\n",
    "print \"free mem\", humanbytes(psutil.virtual_memory().free)"
   ]
  },
  {
   "cell_type": "markdown",
   "metadata": {},
   "source": [
    "## train from scratch\n",
    "\n",
    "train with **only 2 epochs**. observe in tensorboard weight evolutions all layers, specially the convolutional ones"
   ]
  },
  {
   "cell_type": "code",
   "execution_count": 49,
   "metadata": {},
   "outputs": [],
   "source": [
    "model = get_model()"
   ]
  },
  {
   "cell_type": "code",
   "execution_count": 50,
   "metadata": {},
   "outputs": [
    {
     "name": "stdout",
     "output_type": "stream",
     "text": [
      "Training Step: 199  | total loss: \u001b[1m\u001b[32m0.24346\u001b[0m\u001b[0m | time: 65.125s\n",
      "| Adam | epoch: 002 | loss: 0.24346 - acc: 0.9228 -- iter: 09900/10000\n",
      "Training Step: 200  | total loss: \u001b[1m\u001b[32m0.24208\u001b[0m\u001b[0m | time: 70.518s\n",
      "| Adam | epoch: 002 | loss: 0.24208 - acc: 0.9215 | val_loss: 0.22450 - val_acc: 0.9302 -- iter: 10000/10000\n",
      "--\n"
     ]
    }
   ],
   "source": [
    "model_name = \"tflearn_cnn_mnist_\" + datetime.now().strftime(\"%Y-%m-%d_%H:%M\")\n",
    "print \"model name\", model_name\n",
    "model.fit(train_imgs, train_ohlabs, n_epoch=2,  validation_set=(test_imgs, test_ohlabs), shuffle=True,\n",
    "          show_metric=True, batch_size=100, snapshot_step=10, snapshot_epoch=False, run_id=model_name)"
   ]
  },
  {
   "cell_type": "code",
   "execution_count": 51,
   "metadata": {},
   "outputs": [
    {
     "name": "stdout",
     "output_type": "stream",
     "text": [
      "(5, 5, 1, 9)\n"
     ]
    },
    {
     "data": {
      "image/png": "[encoded data removed]",
      "text/plain": [
       "<matplotlib.figure.Figure at 0x7fea06f1f590>"
      ]
     },
     "metadata": {},
     "output_type": "display_data"
    }
   ],
   "source": [
    "vars = {i.name:i for i in tflearn.variables.get_all_trainable_variable()}\n",
    "w1 = model.get_weights(vars['conv1/W:0'])\n",
    "print w1.shape\n",
    "def display_imgs(w, figsize=(10,3)):\n",
    "    plt.figure(figsize=figsize)\n",
    "    for i in range(w.shape[-1]):\n",
    "        plt.subplot(1,w.shape[-1],i+1)\n",
    "        plt.imshow(w[:,:,i], cmap = plt.cm.Greys_r, interpolation=\"none\")\n",
    "        plt.axis(\"off\")\n",
    "        plt.title(i)\n",
    "\n",
    "display_imgs(w1[:,:,0,:])"
   ]
  },
  {
   "cell_type": "markdown",
   "metadata": {},
   "source": [
    "## load and set pretrained weights"
   ]
  },
  {
   "cell_type": "code",
   "execution_count": 69,
   "metadata": {},
   "outputs": [
    {
     "name": "stdout",
     "output_type": "stream",
     "text": [
      "free mem 949.91 MB\n"
     ]
    }
   ],
   "source": [
    "gc.collect()\n",
    "print \"free mem\", humanbytes(psutil.virtual_memory().free)"
   ]
  },
  {
   "cell_type": "code",
   "execution_count": 57,
   "metadata": {},
   "outputs": [],
   "source": [
    "with h5py.File('pretrained_models/binmnist.h5','r') as h5f:\n",
    "    conv1_W = h5f[\"conv1/W:0\"][:]\n",
    "    conv1_b = h5f[\"conv1/b:0\"][:]\n",
    "    conv2_W = h5f[\"conv2/W:0\"][:]\n",
    "    conv2_b = h5f[\"conv2/b:0\"][:]\n",
    "    fc1_W = h5f[\"fc1/W:0\"][:]\n",
    "    fc1_b = h5f[\"fc1/b:0\"][:]\n",
    "    fc2_W = h5f[\"fc2/W:0\"][:]\n",
    "    fc2_b = h5f[\"fc2/b:0\"][:]"
   ]
  },
  {
   "cell_type": "markdown",
   "metadata": {},
   "source": [
    "### create model\n",
    "\n",
    "observe random weights"
   ]
  },
  {
   "cell_type": "code",
   "execution_count": 63,
   "metadata": {},
   "outputs": [
    {
     "data": {
      "text/plain": [
       "{u'conv1/W:0': <tf.Variable 'conv1/W:0' shape=(5, 5, 1, 9) dtype=float32_ref>,\n",
       " u'conv1/b:0': <tf.Variable 'conv1/b:0' shape=(9,) dtype=float32_ref>,\n",
       " u'conv2/W:0': <tf.Variable 'conv2/W:0' shape=(4, 4, 9, 18) dtype=float32_ref>,\n",
       " u'conv2/b:0': <tf.Variable 'conv2/b:0' shape=(18,) dtype=float32_ref>,\n",
       " u'fc1/W:0': <tf.Variable 'fc1/W:0' shape=(3528, 100) dtype=float32_ref>,\n",
       " u'fc1/b:0': <tf.Variable 'fc1/b:0' shape=(100,) dtype=float32_ref>,\n",
       " u'fc2/W:0': <tf.Variable 'fc2/W:0' shape=(100, 10) dtype=float32_ref>,\n",
       " u'fc2/b:0': <tf.Variable 'fc2/b:0' shape=(10,) dtype=float32_ref>}"
      ]
     },
     "execution_count": 63,
     "metadata": {},
     "output_type": "execute_result"
    },
    {
     "data": {
      "image/png": "[encoded data removed]",
      "text/plain": [
       "<matplotlib.figure.Figure at 0x7fe9e65f2550>"
      ]
     },
     "metadata": {},
     "output_type": "display_data"
    }
   ],
   "source": [
    "model = get_model()\n",
    "vars = {i.name:i for i in tflearn.variables.get_all_trainable_variable()}\n",
    "w1 = model.get_weights(vars['conv1/W:0'])\n",
    "display_imgs(w1[:,:,0,:])\n",
    "vars"
   ]
  },
  {
   "cell_type": "markdown",
   "metadata": {},
   "source": [
    "### load weights"
   ]
  },
  {
   "cell_type": "code",
   "execution_count": 64,
   "metadata": {},
   "outputs": [],
   "source": [
    "model.set_weights(vars['conv1/W:0'], conv1_W)\n",
    "model.set_weights(vars['conv1/b:0'], conv1_b)\n",
    "model.set_weights(vars['conv2/W:0'], conv2_W)\n",
    "model.set_weights(vars['conv2/b:0'], conv2_b)\n",
    "model.set_weights(vars['fc1/W:0'], fc1_W)\n",
    "model.set_weights(vars['fc1/b:0'], fc1_b)"
   ]
  },
  {
   "cell_type": "code",
   "execution_count": 65,
   "metadata": {},
   "outputs": [
    {
     "data": {
      "image/png": "[encoded data removed]",
      "text/plain": [
       "<matplotlib.figure.Figure at 0x7fe9e65fdf90>"
      ]
     },
     "metadata": {},
     "output_type": "display_data"
    }
   ],
   "source": [
    "w1 = model.get_weights(vars['conv1/W:0'])\n",
    "display_imgs(w1[:,:,0,:])"
   ]
  },
  {
   "cell_type": "markdown",
   "metadata": {},
   "source": [
    "## train and use `tensorboard` to see progress and results\n",
    "\n",
    "observe:\n",
    "\n",
    "- accuracy is much better with the same amount of training\n",
    "- first layer filters have not moved much (both when visualizing filters and in Tensorboard histograms)"
   ]
  },
  {
   "cell_type": "code",
   "execution_count": 66,
   "metadata": {},
   "outputs": [
    {
     "name": "stdout",
     "output_type": "stream",
     "text": [
      "Training Step: 199  | total loss: \u001b[1m\u001b[32m0.05349\u001b[0m\u001b[0m | time: 60.955s\n",
      "| Adam | epoch: 002 | loss: 0.05349 - acc: 0.9835 -- iter: 09900/10000\n",
      "Training Step: 200  | total loss: \u001b[1m\u001b[32m0.05113\u001b[0m\u001b[0m | time: 66.231s\n",
      "| Adam | epoch: 002 | loss: 0.05113 - acc: 0.9852 | val_loss: 0.07764 - val_acc: 0.9743 -- iter: 10000/10000\n",
      "--\n"
     ]
    }
   ],
   "source": [
    "model_name = \"tflearn_cnn_mnist_\" + datetime.now().strftime(\"%Y-%m-%d_%H:%M\")\n",
    "print \"model name\", model_name\n",
    "model.fit(train_imgs, train_ohlabs, n_epoch=2,  validation_set=(test_imgs, test_ohlabs), shuffle=True,\n",
    "          show_metric=True, batch_size=100, snapshot_step=10, snapshot_epoch=False, run_id=model_name)"
   ]
  },
  {
   "cell_type": "code",
   "execution_count": 67,
   "metadata": {},
   "outputs": [
    {
     "data": {
      "image/png": "[encoded data removed]",
      "text/plain": [
       "<matplotlib.figure.Figure at 0x7fe9e5db9290>"
      ]
     },
     "metadata": {},
     "output_type": "display_data"
    }
   ],
   "source": [
    "w1 = model.get_weights(vars['conv1/W:0'])\n",
    "display_imgs(w1[:,:,0,:])"
   ]
  },
  {
   "cell_type": "code",
   "execution_count": 68,
   "metadata": {},
   "outputs": [
    {
     "name": "stdout",
     "output_type": "stream",
     "text": [
      "free mem 700.82 MB\n"
     ]
    }
   ],
   "source": [
    "gc.collect()\n",
    "print \"free mem\", humanbytes(psutil.virtual_memory().free)"
   ]
  },
  {
   "cell_type": "code",
   "execution_count": null,
   "metadata": {},
   "outputs": [],
   "source": []
  }
 ],
 "metadata": {
  "kernelspec": {
   "display_name": "Python 2",
   "language": "python",
   "name": "python2"
  },
  "language_info": {
   "codemirror_mode": {
    "name": "ipython",
    "version": 2
   },
   "file_extension": ".py",
   "mimetype": "text/x-python",
   "name": "python",
   "nbconvert_exporter": "python",
   "pygments_lexer": "ipython2",
   "version": "2.7.14"
  }
 },
 "nbformat": 4,
 "nbformat_minor": 2
}

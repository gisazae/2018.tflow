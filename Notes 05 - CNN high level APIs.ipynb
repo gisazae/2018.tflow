{
 "cells": [
  {
   "cell_type": "code",
   "execution_count": 1,
   "metadata": {},
   "outputs": [],
   "source": [
    "import tensorflow as tf\n",
    "import numpy as np\n",
    "import matplotlib.pyplot as plt\n",
    "import pandas as pd\n",
    "from time import time\n",
    "import tflearn, psutil, gc\n",
    "from datetime import datetime\n",
    "%matplotlib inline"
   ]
  },
  {
   "cell_type": "code",
   "execution_count": 2,
   "metadata": {},
   "outputs": [],
   "source": [
    "from tflearn.layers.core import input_data, dropout, fully_connected\n",
    "from tflearn.layers.conv import conv_2d, max_pool_2d\n",
    "from tflearn.layers.normalization import local_response_normalization\n",
    "from tflearn.layers.estimator import regression"
   ]
  },
  {
   "cell_type": "code",
   "execution_count": 5,
   "metadata": {},
   "outputs": [
    {
     "name": "stdout",
     "output_type": "stream",
     "text": [
      "free mem 1.20 GB\n"
     ]
    }
   ],
   "source": [
    "from rlx.utils import humanbytes\n",
    "print \"free mem\", humanbytes(psutil.virtual_memory().free)"
   ]
  },
  {
   "cell_type": "markdown",
   "metadata": {},
   "source": [
    "# We will be creating the same CNN  for classify MNIST as in previous notes\n",
    "\n",
    "## load the data"
   ]
  },
  {
   "cell_type": "code",
   "execution_count": 4,
   "metadata": {},
   "outputs": [
    {
     "name": "stdout",
     "output_type": "stream",
     "text": [
      "Successfully downloaded train-images-idx3-ubyte.gz 9912422 bytes.\n",
      "Extracting /tmp/MNIST_data/train-images-idx3-ubyte.gz\n",
      "Successfully downloaded train-labels-idx1-ubyte.gz 28881 bytes.\n",
      "Extracting /tmp/MNIST_data/train-labels-idx1-ubyte.gz\n",
      "Successfully downloaded t10k-images-idx3-ubyte.gz 1648877 bytes.\n",
      "Extracting /tmp/MNIST_data/t10k-images-idx3-ubyte.gz\n",
      "Successfully downloaded t10k-labels-idx1-ubyte.gz 4542 bytes.\n",
      "Extracting /tmp/MNIST_data/t10k-labels-idx1-ubyte.gz\n",
      "free mem 1.20 GB\n"
     ]
    }
   ],
   "source": [
    "from tensorflow.examples.tutorials.mnist.input_data import read_data_sets\n",
    "mnist = read_data_sets(\"/tmp/MNIST_data/\", one_hot=True, reshape=False, validation_size=0)\n",
    "print \"free mem\", humanbytes(psutil.virtual_memory().free)"
   ]
  },
  {
   "cell_type": "code",
   "execution_count": 6,
   "metadata": {},
   "outputs": [
    {
     "name": "stdout",
     "output_type": "stream",
     "text": [
      "(60000, 28, 28, 1)\n",
      "(10000, 28, 28, 1)\n"
     ]
    }
   ],
   "source": [
    "print mnist.train.images.shape\n",
    "print mnist.test.images.shape"
   ]
  },
  {
   "cell_type": "code",
   "execution_count": 7,
   "metadata": {},
   "outputs": [],
   "source": [
    "# number of images used for training and test\n",
    "n=10000\n",
    "\n",
    "idxs = np.random.permutation(range(len(mnist.train.images)))[:n]\n",
    "train_imgs = mnist.train.images[idxs]\n",
    "train_ohlabs = mnist.train.labels[idxs]\n",
    "train_labels = np.r_[[np.argwhere(i)[0][0] for i in train_ohlabs]]"
   ]
  },
  {
   "cell_type": "code",
   "execution_count": 8,
   "metadata": {},
   "outputs": [],
   "source": [
    "vn = n if n<mnist.test.images.shape[0] else mnist.test.images.shape[0]\n",
    "\n",
    "idxs = np.random.permutation(range(len(mnist.test.images)))[:n]\n",
    "test_imgs = mnist.test.images[idxs]\n",
    "test_ohlabs = mnist.test.labels[idxs]\n",
    "test_labels = np.r_[[np.argwhere(i)[0][0] for i in test_ohlabs]]"
   ]
  },
  {
   "cell_type": "code",
   "execution_count": 9,
   "metadata": {},
   "outputs": [
    {
     "name": "stdout",
     "output_type": "stream",
     "text": [
      "(10000, 28, 28, 1) (10000, 28, 28, 1)\n",
      "free mem 1.16 GB\n"
     ]
    }
   ],
   "source": [
    "print train_imgs.shape, test_imgs.shape\n",
    "print \"free mem\", humanbytes(psutil.virtual_memory().free)"
   ]
  },
  {
   "cell_type": "code",
   "execution_count": 10,
   "metadata": {},
   "outputs": [
    {
     "name": "stdout",
     "output_type": "stream",
     "text": [
      "free mem 1.36 GB\n"
     ]
    }
   ],
   "source": [
    "del(mnist)\n",
    "gc.collect()\n",
    "print \"free mem\", humanbytes(psutil.virtual_memory().free)"
   ]
  },
  {
   "cell_type": "code",
   "execution_count": 11,
   "metadata": {},
   "outputs": [
    {
     "name": "stdout",
     "output_type": "stream",
     "text": [
      "1    1141\n",
      "6    1041\n",
      "3    1037\n",
      "7    1022\n",
      "0    1006\n",
      "2     992\n",
      "9     988\n",
      "4     965\n",
      "8     942\n",
      "5     866\n",
      "dtype: int64\n",
      "1    1135\n",
      "2    1032\n",
      "7    1028\n",
      "3    1010\n",
      "9    1009\n",
      "4     982\n",
      "0     980\n",
      "8     974\n",
      "6     958\n",
      "5     892\n",
      "dtype: int64\n"
     ]
    }
   ],
   "source": [
    "print pd.Series(train_labels).value_counts()\n",
    "print pd.Series(test_labels).value_counts()"
   ]
  },
  {
   "cell_type": "markdown",
   "metadata": {},
   "source": [
    "## use `tflearn` to create network"
   ]
  },
  {
   "cell_type": "code",
   "execution_count": 12,
   "metadata": {},
   "outputs": [
    {
     "name": "stdout",
     "output_type": "stream",
     "text": [
      "WARNING:tensorflow:From /opt/miniconda/lib/python2.7/site-packages/tflearn/initializations.py:119: __init__ (from tensorflow.python.ops.init_ops) is deprecated and will be removed in a future version.\n",
      "Instructions for updating:\n",
      "Use tf.initializers.variance_scaling instead with distribution=uniform to get equivalent behavior.\n",
      "<class 'tflearn.models.dnn.DNN'> <class 'tensorflow.python.framework.ops.Tensor'>\n"
     ]
    }
   ],
   "source": [
    "num_classes = 10\n",
    "\n",
    "tf.reset_default_graph()\n",
    "\n",
    "network1 = input_data(shape=[None, 28, 28, 1])\n",
    "network2 = conv_2d(network1, 9, 5, strides=1, activation='relu', name=\"conv1\", padding=\"SAME\")\n",
    "network3 = conv_2d(network2, 18, 4, strides=2, activation='relu', name=\"conv2\", padding=\"SAME\")\n",
    "network4 = fully_connected(network3, 100, activation='relu', name='fc1')\n",
    "network5 = fully_connected(network4, 10, activation='softmax', name='fc2')\n",
    "network6 = regression(network5, optimizer=\"adam\",  loss='categorical_crossentropy')\n",
    "\n",
    "model   = tflearn.DNN(network6, tensorboard_verbose=0, tensorboard_dir=\"log\")\n",
    "print type(model), type(network6)"
   ]
  },
  {
   "cell_type": "code",
   "execution_count": 13,
   "metadata": {},
   "outputs": [
    {
     "name": "stdout",
     "output_type": "stream",
     "text": [
      "free mem 1.34 GB\n"
     ]
    }
   ],
   "source": [
    "gc.collect()\n",
    "print \"free mem\", humanbytes(psutil.virtual_memory().free)"
   ]
  },
  {
   "cell_type": "code",
   "execution_count": 15,
   "metadata": {},
   "outputs": [
    {
     "data": {
      "text/plain": [
       "{u'conv1/W:0': <tf.Variable 'conv1/W:0' shape=(5, 5, 1, 9) dtype=float32_ref>,\n",
       " u'conv1/b:0': <tf.Variable 'conv1/b:0' shape=(9,) dtype=float32_ref>,\n",
       " u'conv2/W:0': <tf.Variable 'conv2/W:0' shape=(4, 4, 9, 18) dtype=float32_ref>,\n",
       " u'conv2/b:0': <tf.Variable 'conv2/b:0' shape=(18,) dtype=float32_ref>,\n",
       " u'fc1/W:0': <tf.Variable 'fc1/W:0' shape=(3528, 100) dtype=float32_ref>,\n",
       " u'fc1/b:0': <tf.Variable 'fc1/b:0' shape=(100,) dtype=float32_ref>,\n",
       " u'fc2/W:0': <tf.Variable 'fc2/W:0' shape=(100, 10) dtype=float32_ref>,\n",
       " u'fc2/b:0': <tf.Variable 'fc2/b:0' shape=(10,) dtype=float32_ref>}"
      ]
     },
     "execution_count": 15,
     "metadata": {},
     "output_type": "execute_result"
    }
   ],
   "source": [
    "vars = {i.name:i for i in tflearn.variables.get_all_trainable_variable()}\n",
    "vars"
   ]
  },
  {
   "cell_type": "markdown",
   "metadata": {},
   "source": [
    "## train and use `tensorboard` to see progress and results"
   ]
  },
  {
   "cell_type": "code",
   "execution_count": 16,
   "metadata": {},
   "outputs": [
    {
     "name": "stdout",
     "output_type": "stream",
     "text": [
      "model name tflearn_cnn_mnist_2018-01-13_14:43\n"
     ]
    }
   ],
   "source": [
    "model_name = \"tflearn_cnn_mnist_\" + datetime.now().strftime(\"%Y-%m-%d_%H:%M\")\n",
    "print \"model name\", model_name"
   ]
  },
  {
   "cell_type": "code",
   "execution_count": 17,
   "metadata": {},
   "outputs": [
    {
     "name": "stdout",
     "output_type": "stream",
     "text": [
      "Training Step: 999  | total loss: \u001b[1m\u001b[32m0.01801\u001b[0m\u001b[0m | time: 11.260s\n",
      "| Adam | epoch: 010 | loss: 0.01801 - acc: 0.9956 -- iter: 09900/10000\n",
      "Training Step: 1000  | total loss: \u001b[1m\u001b[32m0.01666\u001b[0m\u001b[0m | time: 15.191s\n",
      "| Adam | epoch: 010 | loss: 0.01666 - acc: 0.9960 | val_loss: 0.07130 - val_acc: 0.9802 -- iter: 10000/10000\n",
      "--\n"
     ]
    }
   ],
   "source": [
    "# Training\n",
    "model.fit(train_imgs, train_ohlabs, n_epoch=10,  validation_set=(test_imgs, test_ohlabs), shuffle=True,\n",
    "          show_metric=True, batch_size=100, snapshot_step=1000, snapshot_epoch=False, run_id=model_name)"
   ]
  },
  {
   "cell_type": "code",
   "execution_count": 18,
   "metadata": {},
   "outputs": [
    {
     "name": "stdout",
     "output_type": "stream",
     "text": [
      "INFO:tensorflow:/home/user/share/Dropbox/teaching/machine-learning/2018.cnn/student/notes_git/models/tflearn_cnn_mnist_2018-01-13_14:43 is not in all_model_checkpoint_paths. Manually adding it.\n"
     ]
    }
   ],
   "source": [
    "model.save(\"models/\"+model_name)"
   ]
  },
  {
   "cell_type": "code",
   "execution_count": 19,
   "metadata": {},
   "outputs": [
    {
     "name": "stdout",
     "output_type": "stream",
     "text": [
      "(10000, 10)\n",
      "(10000,)\n",
      "0.9802\n"
     ]
    }
   ],
   "source": [
    "preds = model.predict(test_imgs)\n",
    "print preds.shape\n",
    "preds = np.argmax(preds, axis=1)\n",
    "print preds.shape\n",
    "print np.mean(test_labels == preds)"
   ]
  },
  {
   "cell_type": "code",
   "execution_count": 20,
   "metadata": {},
   "outputs": [
    {
     "name": "stdout",
     "output_type": "stream",
     "text": [
      "free mem 1.47 GB\n"
     ]
    }
   ],
   "source": [
    "gc.collect()\n",
    "print \"free mem\", humanbytes(psutil.virtual_memory().free)"
   ]
  },
  {
   "cell_type": "markdown",
   "metadata": {},
   "source": [
    "## observe how TF variables are available through `tflearn`"
   ]
  },
  {
   "cell_type": "code",
   "execution_count": 21,
   "metadata": {},
   "outputs": [
    {
     "data": {
      "text/plain": [
       "{u'Accuracy/Mean/moving_avg:0': <tf.Variable 'Accuracy/Mean/moving_avg:0' shape=() dtype=float32_ref>,\n",
       " u'Adam/beta1_power:0': <tf.Variable 'Adam/beta1_power:0' shape=() dtype=float32_ref>,\n",
       " u'Adam/beta2_power:0': <tf.Variable 'Adam/beta2_power:0' shape=() dtype=float32_ref>,\n",
       " u'Crossentropy/Mean/moving_avg:0': <tf.Variable 'Crossentropy/Mean/moving_avg:0' shape=() dtype=float32_ref>,\n",
       " u'Global_Step:0': <tf.Variable 'Global_Step:0' shape=() dtype=float32_ref>,\n",
       " u'Training_step:0': <tf.Variable 'Training_step:0' shape=() dtype=float32_ref>,\n",
       " u'conv1/W/Adam:0': <tf.Variable 'conv1/W/Adam:0' shape=(5, 5, 1, 9) dtype=float32_ref>,\n",
       " u'conv1/W/Adam_1:0': <tf.Variable 'conv1/W/Adam_1:0' shape=(5, 5, 1, 9) dtype=float32_ref>,\n",
       " u'conv1/W:0': <tf.Variable 'conv1/W:0' shape=(5, 5, 1, 9) dtype=float32_ref>,\n",
       " u'conv1/b/Adam:0': <tf.Variable 'conv1/b/Adam:0' shape=(9,) dtype=float32_ref>,\n",
       " u'conv1/b/Adam_1:0': <tf.Variable 'conv1/b/Adam_1:0' shape=(9,) dtype=float32_ref>,\n",
       " u'conv1/b:0': <tf.Variable 'conv1/b:0' shape=(9,) dtype=float32_ref>,\n",
       " u'conv2/W/Adam:0': <tf.Variable 'conv2/W/Adam:0' shape=(4, 4, 9, 18) dtype=float32_ref>,\n",
       " u'conv2/W/Adam_1:0': <tf.Variable 'conv2/W/Adam_1:0' shape=(4, 4, 9, 18) dtype=float32_ref>,\n",
       " u'conv2/W:0': <tf.Variable 'conv2/W:0' shape=(4, 4, 9, 18) dtype=float32_ref>,\n",
       " u'conv2/b/Adam:0': <tf.Variable 'conv2/b/Adam:0' shape=(18,) dtype=float32_ref>,\n",
       " u'conv2/b/Adam_1:0': <tf.Variable 'conv2/b/Adam_1:0' shape=(18,) dtype=float32_ref>,\n",
       " u'conv2/b:0': <tf.Variable 'conv2/b:0' shape=(18,) dtype=float32_ref>,\n",
       " u'fc1/W/Adam:0': <tf.Variable 'fc1/W/Adam:0' shape=(3528, 100) dtype=float32_ref>,\n",
       " u'fc1/W/Adam_1:0': <tf.Variable 'fc1/W/Adam_1:0' shape=(3528, 100) dtype=float32_ref>,\n",
       " u'fc1/W:0': <tf.Variable 'fc1/W:0' shape=(3528, 100) dtype=float32_ref>,\n",
       " u'fc1/b/Adam:0': <tf.Variable 'fc1/b/Adam:0' shape=(100,) dtype=float32_ref>,\n",
       " u'fc1/b/Adam_1:0': <tf.Variable 'fc1/b/Adam_1:0' shape=(100,) dtype=float32_ref>,\n",
       " u'fc1/b:0': <tf.Variable 'fc1/b:0' shape=(100,) dtype=float32_ref>,\n",
       " u'fc2/W/Adam:0': <tf.Variable 'fc2/W/Adam:0' shape=(100, 10) dtype=float32_ref>,\n",
       " u'fc2/W/Adam_1:0': <tf.Variable 'fc2/W/Adam_1:0' shape=(100, 10) dtype=float32_ref>,\n",
       " u'fc2/W:0': <tf.Variable 'fc2/W:0' shape=(100, 10) dtype=float32_ref>,\n",
       " u'fc2/b/Adam:0': <tf.Variable 'fc2/b/Adam:0' shape=(10,) dtype=float32_ref>,\n",
       " u'fc2/b/Adam_1:0': <tf.Variable 'fc2/b/Adam_1:0' shape=(10,) dtype=float32_ref>,\n",
       " u'fc2/b:0': <tf.Variable 'fc2/b:0' shape=(10,) dtype=float32_ref>,\n",
       " u'is_training:0': <tf.Variable 'is_training:0' shape=() dtype=bool_ref>,\n",
       " u'val_acc:0': <tf.Variable 'val_acc:0' shape=() dtype=float32_ref>,\n",
       " u'val_loss:0': <tf.Variable 'val_loss:0' shape=() dtype=float32_ref>}"
      ]
     },
     "execution_count": 21,
     "metadata": {},
     "output_type": "execute_result"
    }
   ],
   "source": [
    "vars = {i.name:i for i in tflearn.variables.get_all_variables()}\n",
    "vars"
   ]
  },
  {
   "cell_type": "code",
   "execution_count": 22,
   "metadata": {},
   "outputs": [],
   "source": [
    "w1 = model.get_weights(vars[\"conv1/W:0\"])\n",
    "b1 = model.get_weights(vars[\"conv1/b:0\"])\n",
    "w2 = model.get_weights(vars[\"conv2/W:0\"])\n",
    "fc1 = model.get_weights(vars[\"fc1/W:0\"])\n",
    "fc2 = model.get_weights(vars[\"fc2/W:0\"])"
   ]
  },
  {
   "cell_type": "code",
   "execution_count": 23,
   "metadata": {},
   "outputs": [
    {
     "data": {
      "image/png": "[encoded data removed]",
      "text/plain": [
       "<matplotlib.figure.Figure at 0x7ff6a7fcead0>"
      ]
     },
     "metadata": {},
     "output_type": "display_data"
    }
   ],
   "source": [
    "def display_imgs(w, figsize=(10,3)):\n",
    "    plt.figure(figsize=figsize)\n",
    "    for i in range(w.shape[-1]):\n",
    "        plt.subplot(1,w.shape[-1],i+1)\n",
    "        plt.imshow(w[:,:,i], cmap = plt.cm.Greys_r, interpolation=\"none\")\n",
    "        plt.axis(\"off\")\n",
    "        plt.title(i)\n",
    "        \n",
    "display_imgs(w1[:,:,0,:])"
   ]
  },
  {
   "cell_type": "code",
   "execution_count": 24,
   "metadata": {},
   "outputs": [
    {
     "name": "stdout",
     "output_type": "stream",
     "text": [
      "INFO:tensorflow:Restoring parameters from models/tflearn_cnn_mnist_2018-01-13_14:43\n"
     ]
    },
    {
     "data": {
      "image/png": "[encoded data removed]",
      "text/plain": [
       "<matplotlib.figure.Figure at 0x7ff67c213e90>"
      ]
     },
     "metadata": {},
     "output_type": "display_data"
    },
    {
     "data": {
      "image/png": "[encoded data removed]",
      "text/plain": [
       "<matplotlib.figure.Figure at 0x7ff67c65fa50>"
      ]
     },
     "metadata": {},
     "output_type": "display_data"
    },
    {
     "data": {
      "image/png": "[encoded data removed]",
      "text/plain": [
       "<matplotlib.figure.Figure at 0x7ff67c02b490>"
      ]
     },
     "metadata": {},
     "output_type": "display_data"
    }
   ],
   "source": [
    "X = model.inputs[0]\n",
    "i = np.random.randint(len(test_imgs))\n",
    "with tf.Session() as sess:\n",
    "    saver = tf.train.Saver()\n",
    "    tflearn.config.init_training_mode()\n",
    "    saver.restore(sess, \"models/\"+model_name)    \n",
    "    activations_conv1, activations_fc1 = sess.run([network2, network4], feed_dict={X: test_imgs[i:i+1]})\n",
    "\n",
    "\n",
    "plt.imshow(test_imgs[i][:,:,0], cmap=plt.cm.Greys_r)\n",
    "display_imgs(w1[:,:,0,:])\n",
    "display_imgs(activations_conv1[0,:,:,:])"
   ]
  },
  {
   "cell_type": "code",
   "execution_count": null,
   "metadata": {},
   "outputs": [],
   "source": []
  }
 ],
 "metadata": {
  "kernelspec": {
   "display_name": "Python 2",
   "language": "python",
   "name": "python2"
  },
  "language_info": {
   "codemirror_mode": {
    "name": "ipython",
    "version": 2
   },
   "file_extension": ".py",
   "mimetype": "text/x-python",
   "name": "python",
   "nbconvert_exporter": "python",
   "pygments_lexer": "ipython2",
   "version": "2.7.14"
  }
 },
 "nbformat": 4,
 "nbformat_minor": 2
}

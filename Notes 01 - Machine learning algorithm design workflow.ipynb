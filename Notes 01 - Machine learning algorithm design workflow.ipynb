{
 "cells": [
  {
   "cell_type": "markdown",
   "metadata": {},
   "source": [
    "# Regular machine learning algorithm design workflow:\n",
    "\n",
    "1. Setup problem parametrically\n",
    "2. Define cost function\n",
    "3. Obtain gradient\n",
    "4. Minimize cost\n",
    "\n",
    "\n",
    "## Machine learning example task\n",
    "Predict house value using house area. This is a **regression** problem, the var to predict $\\in \\mathbb{R}^n$"
   ]
  },
  {
   "cell_type": "code",
   "execution_count": 1,
   "metadata": {
    "collapsed": true
   },
   "outputs": [],
   "source": [
    "import numpy as np\n",
    "import matplotlib.pyplot as plt\n",
    "import pandas as pd\n",
    "from scipy.optimize import minimize\n",
    "%matplotlib inline"
   ]
  },
  {
   "cell_type": "code",
   "execution_count": 2,
   "metadata": {},
   "outputs": [
    {
     "data": {
      "text/html": [
       "<div>\n",
       "<style scoped>\n",
       "    .dataframe tbody tr th:only-of-type {\n",
       "        vertical-align: middle;\n",
       "    }\n",
       "\n",
       "    .dataframe tbody tr th {\n",
       "        vertical-align: top;\n",
       "    }\n",
       "\n",
       "    .dataframe thead th {\n",
       "        text-align: right;\n",
       "    }\n",
       "</style>\n",
       "<table border=\"1\" class=\"dataframe\">\n",
       "  <thead>\n",
       "    <tr style=\"text-align: right;\">\n",
       "      <th></th>\n",
       "      <th>area</th>\n",
       "      <th>value</th>\n",
       "    </tr>\n",
       "  </thead>\n",
       "  <tbody>\n",
       "    <tr>\n",
       "      <th>0</th>\n",
       "      <td>57.02</td>\n",
       "      <td>202970</td>\n",
       "    </tr>\n",
       "    <tr>\n",
       "      <th>1</th>\n",
       "      <td>96.07</td>\n",
       "      <td>312626</td>\n",
       "    </tr>\n",
       "    <tr>\n",
       "      <th>2</th>\n",
       "      <td>93.18</td>\n",
       "      <td>264921</td>\n",
       "    </tr>\n",
       "    <tr>\n",
       "      <th>3</th>\n",
       "      <td>91.05</td>\n",
       "      <td>272091</td>\n",
       "    </tr>\n",
       "    <tr>\n",
       "      <th>4</th>\n",
       "      <td>69.76</td>\n",
       "      <td>209846</td>\n",
       "    </tr>\n",
       "  </tbody>\n",
       "</table>\n",
       "</div>"
      ],
      "text/plain": [
       "    area   value\n",
       "0  57.02  202970\n",
       "1  96.07  312626\n",
       "2  93.18  264921\n",
       "3  91.05  272091\n",
       "4  69.76  209846"
      ]
     },
     "execution_count": 2,
     "metadata": {},
     "output_type": "execute_result"
    }
   ],
   "source": [
    "d = pd.read_csv(\"data/houses.csv\")\n",
    "d.head()"
   ]
  },
  {
   "cell_type": "code",
   "execution_count": 3,
   "metadata": {},
   "outputs": [
    {
     "data": {
      "text/plain": [
       "Text(0,0.5,u'house value in USD')"
      ]
     },
     "execution_count": 3,
     "metadata": {},
     "output_type": "execute_result"
    },
    {
     "data": {
      "image/png": "[encoded data removed]",
      "text/plain": [
       "<matplotlib.figure.Figure at 0x7f3144ef8b90>"
      ]
     },
     "metadata": {},
     "output_type": "display_data"
    }
   ],
   "source": [
    "plt.scatter(d.area, d.value)\n",
    "plt.xlabel(\"house area in $m^2$\")\n",
    "plt.ylabel(\"house value in USD\")"
   ]
  },
  {
   "cell_type": "markdown",
   "metadata": {},
   "source": [
    "## Linear regression setup\n",
    "\n",
    "- $x_1^{(i)}$: area of house $i$\n",
    "- $y^{(i)}$: value of house $i$\n",
    "- $\\hat{y}^{(i)}$: our estimate for the value of house $i$\n",
    "\n",
    "**WE ASSUME** that the relation between the area and  value of a certain house is linear, so that our estimate is:\n",
    "\n",
    "$$\\hat{y}^{(i)} = \\theta_0 + \\theta_1 x_1^{(i)}$$\n",
    "\n",
    "if we set $x_0^{(i)}=1$ for all $i$, the we can write the above expression more compactly in vector form, with $\\theta = [\\theta_0, \\theta_1]$ y $\\mathbf{x}=[x_0, x_1]$\n",
    "\n",
    "$$\\hat{y}^{(i)} = \\theta\\mathbf{x}^{(i)}$$\n",
    "\n",
    "Given a set of $\\theta$, and data for $n$ houses for which we know the actual value $y^{(i)}$, the total quadratic error of our estimate is\n",
    "\n",
    "$$ J(\\theta) = \\frac{1}{m} \\sum_{i=0}^{m-1} (\\hat{y}^{(i)}-y^{(i)})^2 = \\frac{1}{m} \\sum_{i=0}^{,-1} (\\mathbf{x}\\theta^{(i)}-y^{(i)})^2$$\n",
    "\n",
    "\n",
    "We now want to find the values $\\theta_{min}$ that minimize this average error:\n",
    "\n",
    "\n",
    "$$\\theta_{min} = \\underset{\\theta}{arg\\,min} \\,\\,\\,J(\\theta)$$ \n",
    "\n",
    "en modo matricial\n",
    "\n",
    "$$J(\\theta) = \\text{mean}(\\mathbf{X}\\theta-\\mathbf{y})^2$$\n",
    "\n",
    "Where `mean` represents the mean of all elements of a vector.\n",
    "\n",
    "For instance, the parameters $\\theta_0=0$, $\\theta_1=3800$ define predictions which can clearly miprove with respect to the data we have. Observe how we create the matrices $X$ e $y$, adding a column of 1's to $X$."
   ]
  },
  {
   "cell_type": "code",
   "execution_count": 4,
   "metadata": {},
   "outputs": [
    {
     "name": "stdout",
     "output_type": "stream",
     "text": [
      "(100, 2) (100,)\n"
     ]
    },
    {
     "data": {
      "text/plain": [
       "[<matplotlib.lines.Line2D at 0x7f3142dd05d0>]"
      ]
     },
     "execution_count": 4,
     "metadata": {},
     "output_type": "execute_result"
    },
    {
     "data": {
      "image/png": "[encoded data removed]",
      "text/plain": [
       "<matplotlib.figure.Figure at 0x7f3142dd00d0>"
      ]
     },
     "metadata": {},
     "output_type": "display_data"
    }
   ],
   "source": [
    "X = np.hstack((np.ones((len(d),1)), d[[\"area\"]].as_matrix()))\n",
    "y = d.value.as_matrix()\n",
    "print X.shape, y.shape\n",
    "\n",
    "t = np.array([0,3800])\n",
    "\n",
    "xg = np.vstack((np.ones(100), np.linspace(np.min(d.area), np.max(d.area),100))).T\n",
    "plt.scatter(d.area, d.value)\n",
    "plt.plot(xg[:,1], xg.dot(t))"
   ]
  },
  {
   "cell_type": "markdown",
   "metadata": {},
   "source": [
    "Observe how the cost function $J$ varies as we vary the parameters. Just by glancing this graph you can guess the value of the optimal params. This is because this problem is very simple and is **convex**. This will not be the case in general."
   ]
  },
  {
   "cell_type": "code",
   "execution_count": 5,
   "metadata": {},
   "outputs": [
    {
     "data": {
      "image/png": "[encoded data removed]",
      "text/plain": [
       "<matplotlib.figure.Figure at 0x7f3142d6cc90>"
      ]
     },
     "metadata": {},
     "output_type": "display_data"
    }
   ],
   "source": [
    "import itertools\n",
    "\n",
    "def cost(t):\n",
    "    return np.mean((X.dot(t)-y)**2)\n",
    "    \n",
    "def plot_cost(cost, t1_range, t2_range):\n",
    "    k1,k2 = 40,40\n",
    "\n",
    "    t1 = np.linspace(t1_range[0], t1_range[1], k1)\n",
    "    t2 = np.linspace(t2_range[0], t2_range[1], k2)\n",
    "\n",
    "    p = np.zeros((k1,k2))\n",
    "\n",
    "    for i,j in itertools.product(range(k1), range(k2)):\n",
    "        p[i,j] = np.log(cost(np.r_[t1[i],t2[j]]))\n",
    "\n",
    "    plt.contourf(t1, t2, p.T, cmap=plt.cm.hot, levels=np.linspace(np.min(p), np.max(p), 20))\n",
    "    plt.ylabel(r\"$\\theta_1$\")\n",
    "    plt.xlabel(r\"$\\theta_0$\")\n",
    "    plt.title(\"cost function\")\n",
    "    plt.colorbar()\n",
    "    \n",
    "plot_cost(cost, (-60000,120000), (2000,4000))"
   ]
  },
  {
   "cell_type": "markdown",
   "metadata": {},
   "source": [
    "\n",
    "## Black box minimization\n",
    "\n",
    "Una primera aproximación para obtener la recta con los parámetros $\\theta_{min}$ según definido anteriormente es usando optimización sobre la función de coste $J$ como si fuera una _caja negra_. \n",
    "\n",
    "In the minimizer result `x` represents the parameters we want to find: $\\theta_{min}$"
   ]
  },
  {
   "cell_type": "code",
   "execution_count": 6,
   "metadata": {},
   "outputs": [
    {
     "name": "stdout",
     "output_type": "stream",
     "text": [
      "      fun: 871738162.9749104\n",
      " hess_inv: array([[  6.26703681e+00,  -5.67934212e-02],\n",
      "       [ -5.67934212e-02,   5.58203232e-04]])\n",
      "      jac: array([ 0.,  0.])\n",
      "  message: 'Optimization terminated successfully.'\n",
      "     nfev: 112\n",
      "      nit: 9\n",
      "     njev: 28\n",
      "   status: 0\n",
      "  success: True\n",
      "        x: array([ 24739.09778868,   2937.33687009])\n"
     ]
    }
   ],
   "source": [
    "r = minimize(cost, [0,0], method=\"BFGS\")\n",
    "print r"
   ]
  },
  {
   "cell_type": "code",
   "execution_count": 7,
   "metadata": {},
   "outputs": [
    {
     "data": {
      "text/plain": [
       "<matplotlib.legend.Legend at 0x7f3142acf2d0>"
      ]
     },
     "execution_count": 7,
     "metadata": {},
     "output_type": "execute_result"
    },
    {
     "data": {
      "image/png": "[encoded data removed]",
      "text/plain": [
       "<matplotlib.figure.Figure at 0x7f3142d60cd0>"
      ]
     },
     "metadata": {},
     "output_type": "display_data"
    }
   ],
   "source": [
    "plt.figure(figsize=(15,4))\n",
    "plt.subplot(121)\n",
    "t = r.x\n",
    "xg = np.vstack((np.ones(100), np.linspace(np.min(X[:,1]), np.max(X[:,1]),100))).T\n",
    "plt.scatter(X[:,1], y)\n",
    "plt.plot(xg[:,1], xg.dot(t))\n",
    "plt.title(\"data\")\n",
    "plt.subplot(122)\n",
    "plot_cost(cost, (-60000,120000), (2000,4000))\n",
    "plt.axhline(r.x[1], color=\"gray\", label=r\"$\\theta_{min}$\")\n",
    "plt.axvline(r.x[0], color=\"gray\")\n",
    "plt.legend()"
   ]
  },
  {
   "cell_type": "markdown",
   "metadata": {},
   "source": [
    "El error de predicción medio que tenemos es de:"
   ]
  },
  {
   "cell_type": "code",
   "execution_count": 8,
   "metadata": {},
   "outputs": [
    {
     "data": {
      "text/plain": [
       "871738162.97491038"
      ]
     },
     "execution_count": 8,
     "metadata": {},
     "output_type": "execute_result"
    }
   ],
   "source": [
    "cost(r.x)"
   ]
  },
  {
   "cell_type": "markdown",
   "metadata": {},
   "source": [
    "## Helping black box optimization by manually computing the gradient\n",
    "\n",
    "The gradient of $J$ is\n",
    "\n",
    "$$\\nabla J = \\begin{bmatrix}\n",
    "\\frac{\\partial J}{\\partial \\theta_0}\\\\\n",
    "\\frac{\\partial J}{\\partial \\theta_1}\n",
    "\\end{bmatrix} = \\frac{1}{m}2X^{T}\\cdot(X\\cdot\\theta-Y)$$\n",
    "\n",
    "and this can computationally help the minimization algorithm. Observe that:\n",
    "\n",
    "- the result `x` is the same but the number of evaluations is much lower.\n",
    "- we needed to add a multiplicative constant to avoid numerical issues in the optimization algorithm\n",
    "\n",
    "even in this small problem we start to find issues with generic tools. In machine learning we will need to develop specific algorithms and methods."
   ]
  },
  {
   "cell_type": "code",
   "execution_count": 9,
   "metadata": {
    "collapsed": true
   },
   "outputs": [],
   "source": [
    "def grad(t):\n",
    "    return 2*X.T.dot(X.dot(t)-y)/len(X)"
   ]
  },
  {
   "cell_type": "code",
   "execution_count": 10,
   "metadata": {},
   "outputs": [
    {
     "name": "stdout",
     "output_type": "stream",
     "text": [
      "      fun: 871737913.4697466\n",
      " hess_inv: array([[  6.23113283e+00,  -5.64148414e-02],\n",
      "       [ -5.64148414e-02,   5.55323776e-04]])\n",
      "      jac: array([ -5.82076609e-12,  -9.12696123e-10])\n",
      "  message: 'Optimization terminated successfully.'\n",
      "     nfev: 14\n",
      "      nit: 9\n",
      "     njev: 14\n",
      "   status: 0\n",
      "  success: True\n",
      "        x: array([ 24794.85968752,   2936.83230103])\n"
     ]
    }
   ],
   "source": [
    "r = minimize(cost, [0,0], jac=grad, method=\"BFGS\")\n",
    "print r"
   ]
  },
  {
   "cell_type": "markdown",
   "metadata": {},
   "source": [
    "moreover, observe that the gradient at the resulting $\\theta$ is zero."
   ]
  },
  {
   "cell_type": "code",
   "execution_count": 11,
   "metadata": {},
   "outputs": [
    {
     "data": {
      "text/plain": [
       "(array([ -5.82076609e-12,  -9.12696123e-10]), 871737913.46974659)"
      ]
     },
     "execution_count": 11,
     "metadata": {},
     "output_type": "execute_result"
    }
   ],
   "source": [
    "grad(r.x), cost(r.x)"
   ]
  },
  {
   "cell_type": "markdown",
   "metadata": {},
   "source": [
    "## Implementing a gradient descent\n",
    "\n",
    "This is one of the most basic optimization algorithms. We will scale $X$ so that we do not run into numerical problems"
   ]
  },
  {
   "cell_type": "code",
   "execution_count": 12,
   "metadata": {
    "collapsed": true
   },
   "outputs": [],
   "source": [
    "xk =  X.max(axis=0)\n",
    "Xn = X/xk\n",
    "\n",
    "def n_cost(t):\n",
    "    return np.mean((Xn.dot(t)-y)**2)\n",
    "\n",
    "def n_grad(t):\n",
    "    return 2*Xn.T.dot(Xn.dot(t)-y)/len(Xn)\n"
   ]
  },
  {
   "cell_type": "markdown",
   "metadata": {},
   "source": [
    "observe the gradient descent loop. we are using a **variable learning rate** as the different scales for $X$ and $y$ pose numerical issues."
   ]
  },
  {
   "cell_type": "code",
   "execution_count": 13,
   "metadata": {},
   "outputs": [
    {
     "name": "stdout",
     "output_type": "stream",
     "text": [
      "theta start point  [ 31071.81687735   4954.04384288]\n",
      "theta end point    [ 24650.50761591   2938.21445037]\n"
     ]
    }
   ],
   "source": [
    "t = np.r_[np.random.random()*50000, (np.random.random()*1e6)]\n",
    "t_hist = [t.copy()]\n",
    "\n",
    "for i in range(500):\n",
    "    g = n_grad(t)\n",
    "    t -= i/1000.*g\n",
    "    t_hist.append(t.copy())\n",
    "    \n",
    "t_hist = np.r_[t_hist]/xk\n",
    "print \"theta start point \", t_hist[0]\n",
    "print \"theta end point   \", t_hist[-1]"
   ]
  },
  {
   "cell_type": "markdown",
   "metadata": {},
   "source": [
    "we plot the descent"
   ]
  },
  {
   "cell_type": "code",
   "execution_count": 14,
   "metadata": {},
   "outputs": [
    {
     "data": {
      "text/plain": [
       "<matplotlib.legend.Legend at 0x7f31428694d0>"
      ]
     },
     "execution_count": 14,
     "metadata": {},
     "output_type": "execute_result"
    },
    {
     "data": {
      "image/png": "[encoded data removed]",
      "text/plain": [
       "<matplotlib.figure.Figure at 0x7f317c9ea750>"
      ]
     },
     "metadata": {},
     "output_type": "display_data"
    }
   ],
   "source": [
    "plot_cost(cost, (-300000,300000), (-1000,10000))\n",
    "for t in t_hist[np.arange(0,len(t_hist),5)]:\n",
    "    plt.scatter(t[0], t[1], s=1, color=\"white\")\n",
    "plt.scatter(t_hist[-1][0], t_hist[-1][1], s=30, c=\"green\", label=\"end\")\n",
    "plt.scatter(t_hist[0][0], t_hist[0][1], s=30, c=\"blue\", label=\"start\")\n",
    "plt.legend()"
   ]
  },
  {
   "cell_type": "markdown",
   "metadata": {},
   "source": [
    "## Obtaining the gradient symbolically\n",
    "\n",
    "Since this problem is small, we can use `sympy` to derive the gradient expression."
   ]
  },
  {
   "cell_type": "code",
   "execution_count": 15,
   "metadata": {
    "collapsed": true
   },
   "outputs": [],
   "source": [
    "import sympy\n",
    "sympy.init_printing(use_latex=True)"
   ]
  },
  {
   "cell_type": "code",
   "execution_count": 16,
   "metadata": {},
   "outputs": [
    {
     "data": {
      "image/png": "[encoded data removed]",
      "text/latex": [
       "$$\\left ( \\theta_{0}, \\quad \\theta_{1}\\right )$$"
      ],
      "text/plain": [
       "(θ₀, θ₁)"
      ]
     },
     "execution_count": 16,
     "metadata": {},
     "output_type": "execute_result"
    }
   ],
   "source": [
    "t0,t1 = sympy.symbols(\"theta_0 theta_1\")\n",
    "t0,t1"
   ]
  },
  {
   "cell_type": "markdown",
   "metadata": {},
   "source": [
    "we build the expression with a small number of data points. Observe how `sympy` simplifies it"
   ]
  },
  {
   "cell_type": "code",
   "execution_count": 17,
   "metadata": {},
   "outputs": [
    {
     "data": {
      "image/png": "[encoded data removed]",
      "text/latex": [
       "$$\\frac{1}{100} \\left(1.0 \\theta_{0} + 57.02 \\theta_{1} - 202970\\right)^{2} + \\frac{1}{100} \\left(1.0 \\theta_{0} + 57.62 \\theta_{1} - 161472\\right)^{2} + \\frac{1}{100} \\left(1.0 \\theta_{0} + 69.76 \\theta_{1} - 209846\\right)^{2} + \\frac{1}{100} \\left(1.0 \\theta_{0} + 81.67 \\theta_{1} - 241927\\right)^{2} + \\frac{1}{100} \\left(1.0 \\theta_{0} + 91.05 \\theta_{1} - 272091\\right)^{2} + \\frac{1}{100} \\left(1.0 \\theta_{0} + 93.18 \\theta_{1} - 264921\\right)^{2} + \\frac{1}{100} \\left(1.0 \\theta_{0} + 96.07 \\theta_{1} - 312626\\right)^{2} + \\frac{1}{100} \\left(1.0 \\theta_{0} + 99.59 \\theta_{1} - 317444\\right)^{2} + \\frac{1}{100} \\left(1.0 \\theta_{0} + 111.62 \\theta_{1} - 350402\\right)^{2} + \\frac{1}{100} \\left(1.0 \\theta_{0} + 149.57 \\theta_{1} - 478948\\right)^{2}$$"
      ],
      "text/plain": [
       "                            2                               2                 \n",
       "(1.0⋅θ₀ + 57.02⋅θ₁ - 202970)    (1.0⋅θ₀ + 57.62⋅θ₁ - 161472)    (1.0⋅θ₀ + 69.7\n",
       "───────────────────────────── + ───────────────────────────── + ──────────────\n",
       "             100                             100                             1\n",
       "\n",
       "              2                               2                               \n",
       "6⋅θ₁ - 209846)    (1.0⋅θ₀ + 81.67⋅θ₁ - 241927)    (1.0⋅θ₀ + 91.05⋅θ₁ - 272091)\n",
       "─────────────── + ───────────────────────────── + ────────────────────────────\n",
       "00                             100                             100            \n",
       "\n",
       "2                               2                               2             \n",
       "    (1.0⋅θ₀ + 93.18⋅θ₁ - 264921)    (1.0⋅θ₀ + 96.07⋅θ₁ - 312626)    (1.0⋅θ₀ + \n",
       "─ + ───────────────────────────── + ───────────────────────────── + ──────────\n",
       "                 100                             100                          \n",
       "\n",
       "                  2                                2                          \n",
       "99.59⋅θ₁ - 317444)    (1.0⋅θ₀ + 111.62⋅θ₁ - 350402)    (1.0⋅θ₀ + 149.57⋅θ₁ - 4\n",
       "─────────────────── + ────────────────────────────── + ───────────────────────\n",
       "   100                             100                              100       \n",
       "\n",
       "      2\n",
       "78948) \n",
       "───────\n",
       "       "
      ]
     },
     "execution_count": 17,
     "metadata": {},
     "output_type": "execute_result"
    }
   ],
   "source": [
    "expr = 0\n",
    "for i in range(10):\n",
    "    expr += (X[i,0]*t0+X[i,1]*t1-y[i])**2 / len(X)\n",
    "expr = expr\n",
    "expr"
   ]
  },
  {
   "cell_type": "code",
   "execution_count": 18,
   "metadata": {},
   "outputs": [
    {
     "name": "stdout",
     "output_type": "stream",
     "text": [
      "[202970 312626 264921 272091 209846 317444 161472 478948 241927 350402]\n"
     ]
    },
    {
     "data": {
      "text/plain": [
       "array([[   1.  ,   57.02],\n",
       "       [   1.  ,   96.07],\n",
       "       [   1.  ,   93.18],\n",
       "       [   1.  ,   91.05],\n",
       "       [   1.  ,   69.76],\n",
       "       [   1.  ,   99.59],\n",
       "       [   1.  ,   57.62],\n",
       "       [   1.  ,  149.57],\n",
       "       [   1.  ,   81.67],\n",
       "       [   1.  ,  111.62]])"
      ]
     },
     "execution_count": 18,
     "metadata": {},
     "output_type": "execute_result"
    }
   ],
   "source": [
    "print y[:10]\n",
    "X[:10]"
   ]
  },
  {
   "cell_type": "code",
   "execution_count": 19,
   "metadata": {},
   "outputs": [
    {
     "data": {
      "image/png": "[encoded data removed]",
      "text/latex": [
       "$$0.1 \\theta_{0}^{2} + 18.143 \\theta_{0} \\theta_{1} - 56252.94 \\theta_{0} + 890.582285 \\theta_{1}^{2} - 5542599.536 \\theta_{1} + 8647291505.71$$"
      ],
      "text/plain": [
       "      2                                             2                         \n",
       "0.1⋅θ₀  + 18.143⋅θ₀⋅θ₁ - 56252.94⋅θ₀ + 890.582285⋅θ₁  - 5542599.536⋅θ₁ + 86472\n",
       "\n",
       "        \n",
       "91505.71"
      ]
     },
     "execution_count": 19,
     "metadata": {},
     "output_type": "execute_result"
    }
   ],
   "source": [
    "expr = expr.simplify()\n",
    "expr"
   ]
  },
  {
   "cell_type": "markdown",
   "metadata": {},
   "source": [
    "so we build and simplify the cost expression for all data points."
   ]
  },
  {
   "cell_type": "code",
   "execution_count": 20,
   "metadata": {},
   "outputs": [
    {
     "data": {
      "image/png": "[encoded data removed]",
      "text/latex": [
       "$$1.0 \\theta_{0}^{2} + 203.1782 \\theta_{0} \\theta_{1} - 646290.02 \\theta_{0} + 11220.720633 \\theta_{1}^{2} - 70944524.5522 \\theta_{1} + 113060158738.17$$"
      ],
      "text/plain": [
       "      2                                                  2                    \n",
       "1.0⋅θ₀  + 203.1782⋅θ₀⋅θ₁ - 646290.02⋅θ₀ + 11220.720633⋅θ₁  - 70944524.5522⋅θ₁ \n",
       "\n",
       "                 \n",
       "+ 113060158738.17"
      ]
     },
     "execution_count": 20,
     "metadata": {},
     "output_type": "execute_result"
    }
   ],
   "source": [
    "expr_cost = 0\n",
    "for i in range(len(X)):\n",
    "    expr_cost += (X[i,0]*t0+X[i,1]*t1-y[i])**2 / len(X)\n",
    "expr_cost = expr_cost.simplify()\n",
    "expr_cost"
   ]
  },
  {
   "cell_type": "markdown",
   "metadata": {},
   "source": [
    "obtain the gradient expressions"
   ]
  },
  {
   "cell_type": "code",
   "execution_count": 21,
   "metadata": {},
   "outputs": [
    {
     "data": {
      "image/png": "[encoded data removed]",
      "text/latex": [
       "$$\\left ( 2.0 \\theta_{0} + 203.1782 \\theta_{1} - 646290.02, \\quad 203.1782 \\theta_{0} + 22441.441266 \\theta_{1} - 70944524.5522\\right )$$"
      ],
      "text/plain": [
       "(2.0⋅θ₀ + 203.1782⋅θ₁ - 646290.02, 203.1782⋅θ₀ + 22441.441266⋅θ₁ - 70944524.55\n",
       "22)"
      ]
     },
     "execution_count": 21,
     "metadata": {},
     "output_type": "execute_result"
    }
   ],
   "source": [
    "expr_dt0 = expr_cost.diff(t0)\n",
    "expr_dt1 = expr_cost.diff(t1)\n",
    "expr_dt0, expr_dt1"
   ]
  },
  {
   "cell_type": "markdown",
   "metadata": {},
   "source": [
    "observe they correspond to what we obtained above."
   ]
  },
  {
   "cell_type": "code",
   "execution_count": 22,
   "metadata": {},
   "outputs": [
    {
     "name": "stdout",
     "output_type": "stream",
     "text": [
      "numerical gradient    [  -7673.24   -845843.3408]\n",
      "symbolic substitution [  -7673.24       -845843.34079996]\n"
     ]
    }
   ],
   "source": [
    "th = np.r_[24700, 2900]\n",
    "\n",
    "def e_grad(x):\n",
    "    return np.r_[float(expr_dt0.subs({t0: x[0], t1: x[1]})), float(expr_dt1.subs({t0: x[0], t1: x[1]}))]\n",
    "\n",
    "print \"numerical gradient   \", grad(th)\n",
    "print \"symbolic substitution\", e_grad(th)"
   ]
  },
  {
   "cell_type": "markdown",
   "metadata": {},
   "source": [
    "however, evaluating the gradient from the expressions is very expensive computationally"
   ]
  },
  {
   "cell_type": "code",
   "execution_count": 23,
   "metadata": {},
   "outputs": [
    {
     "name": "stdout",
     "output_type": "stream",
     "text": [
      "The slowest run took 8.30 times longer than the fastest. This could mean that an intermediate result is being cached.\n",
      "100000 loops, best of 3: 7.24 µs per loop\n"
     ]
    }
   ],
   "source": [
    "%timeit grad(th)"
   ]
  },
  {
   "cell_type": "code",
   "execution_count": 24,
   "metadata": {},
   "outputs": [
    {
     "name": "stdout",
     "output_type": "stream",
     "text": [
      "The slowest run took 7.55 times longer than the fastest. This could mean that an intermediate result is being cached.\n",
      "1000 loops, best of 3: 498 µs per loop\n"
     ]
    }
   ],
   "source": [
    "%timeit e_grad(th)"
   ]
  },
  {
   "cell_type": "markdown",
   "metadata": {},
   "source": [
    "fortunately, symbolic expressions can  be converted into regular Python functions. Observe we create functions for **BOTH** the cost and its gradient."
   ]
  },
  {
   "cell_type": "code",
   "execution_count": 25,
   "metadata": {},
   "outputs": [
    {
     "name": "stdout",
     "output_type": "stream",
     "text": [
      "generated python function for cost:     887679032.32\n",
      "generated python function for gradient: [  -7673.24   -845843.3408]\n"
     ]
    }
   ],
   "source": [
    "s_cost = sympy.lambdify([[t0,t1]], expr_cost, \"numpy\")\n",
    "\n",
    "d0 = sympy.lambdify([[t0,t1]], expr_dt0, \"numpy\")\n",
    "d1 = sympy.lambdify([[t0,t1]], expr_dt1, \"numpy\")\n",
    "s_grad = lambda x: np.array([d0(x), d1(x)])\n",
    "print \"generated python function for cost:    \", s_cost(th)\n",
    "print \"generated python function for gradient:\", s_grad(th)"
   ]
  },
  {
   "cell_type": "code",
   "execution_count": 26,
   "metadata": {},
   "outputs": [
    {
     "name": "stdout",
     "output_type": "stream",
     "text": [
      "10000 loops, best of 3: 30.8 µs per loop\n"
     ]
    }
   ],
   "source": [
    "%timeit s_grad(th) "
   ]
  },
  {
   "cell_type": "markdown",
   "metadata": {},
   "source": [
    "and now we can use them in the minimizer"
   ]
  },
  {
   "cell_type": "code",
   "execution_count": 27,
   "metadata": {},
   "outputs": [
    {
     "name": "stdout",
     "output_type": "stream",
     "text": [
      "      fun: 871737913.4697323\n",
      " hess_inv: array([[  6.23113283e+00,  -5.64148414e-02],\n",
      "       [ -5.64148414e-02,   5.55323776e-04]])\n",
      "      jac: array([  1.16415322e-10,   7.45058060e-09])\n",
      "  message: 'Optimization terminated successfully.'\n",
      "     nfev: 14\n",
      "      nit: 9\n",
      "     njev: 14\n",
      "   status: 0\n",
      "  success: True\n",
      "        x: array([ 24794.85968753,   2936.83230103])\n"
     ]
    }
   ],
   "source": [
    "r = minimize(s_cost, [0,0], jac=s_grad, method=\"BFGS\")\n",
    "print r"
   ]
  },
  {
   "cell_type": "markdown",
   "metadata": {},
   "source": [
    "all functions are the same. in the cost function, there is a constant difference as we defined it"
   ]
  },
  {
   "cell_type": "code",
   "execution_count": 28,
   "metadata": {},
   "outputs": [
    {
     "name": "stdout",
     "output_type": "stream",
     "text": [
      "theta: [ 21672.80230964  20131.72663596]\n",
      "cost analytic: 3.30754171374e+12\n",
      "cost symbolic: 3.30754171374e+12\n",
      "gradient analytic: [  3.48738357e+06   3.85243877e+08]\n",
      "gradient symbolic: [  3.48738357e+06   3.85243877e+08]\n"
     ]
    }
   ],
   "source": [
    "t = np.array([np.random.random()*5000+20000, np.random.random()*1000+20000])\n",
    "print \"theta:\",t\n",
    "print \"cost analytic:\", cost(t)\n",
    "print \"cost symbolic:\", s_cost(t)\n",
    "\n",
    "print \"gradient analytic:\", grad(t)\n",
    "print \"gradient symbolic:\", s_grad(t)"
   ]
  }
 ],
 "metadata": {
  "kernelspec": {
   "display_name": "Python 2",
   "language": "python",
   "name": "python2"
  },
  "language_info": {
   "codemirror_mode": {
    "name": "ipython",
    "version": 2
   },
   "file_extension": ".py",
   "mimetype": "text/x-python",
   "name": "python",
   "nbconvert_exporter": "python",
   "pygments_lexer": "ipython2",
   "version": "2.7.14"
  },
  "toc": {
   "toc_cell": false,
   "toc_number_sections": true,
   "toc_threshold": 6,
   "toc_window_display": false
  }
 },
 "nbformat": 4,
 "nbformat_minor": 2
}

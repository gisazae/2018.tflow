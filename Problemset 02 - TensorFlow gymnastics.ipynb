{
 "cells": [
  {
   "cell_type": "code",
   "execution_count": 2,
   "metadata": {},
   "outputs": [
    {
     "name": "stderr",
     "output_type": "stream",
     "text": [
      "/opt/miniconda/lib/python2.7/site-packages/statsmodels/compat/pandas.py:56: FutureWarning: The pandas.core.datetools module is deprecated and will be removed in a future version. Please use the pandas.tseries module instead.\n",
      "  from pandas.core import datetools\n"
     ]
    }
   ],
   "source": [
    "import tensorflow as tf\n",
    "import numpy as np\n",
    "import matplotlib.pyplot as plt\n",
    "%matplotlib inline\n",
    "import pandas as pd\n",
    "from rlx.ml import Batches"
   ]
  },
  {
   "cell_type": "markdown",
   "metadata": {},
   "source": [
    "## Exercise 1: Build a TF graph for Rosenbrock's function\n",
    "\n",
    "the following function must implement Rosenbrock's function':\n",
    "\n",
    "$$f(\\mathbf{x})=\\sum_{i=1}^{N-1} (x_i-x_{i-1}^2)^2 + (1-x_{i-1})^2$$\n",
    "\n",
    "with $\\mathbf{x}= [x_0, ..., x_{N-1}]$ \n",
    "\n",
    "Rosenbrock's function is used for training and benchmarking purposes. At any number of dimensions reaches its mininum at the unit vector.\n",
    "\n",
    "your function must return:\n",
    "\n",
    "- `x`: a list of $N$ TensorFlow variables\n",
    "- `f`: a TensorFlow expression that uses these variables implementing Rosenbrock's equation\n",
    "\n",
    "use `tf.reduce_sum`\n"
   ]
  },
  {
   "cell_type": "code",
   "execution_count": null,
   "metadata": {},
   "outputs": [],
   "source": [
    "def get_f(N):\n",
    "    tf.reset_default_graph()\n",
    "    \n",
    "    x = ...\n",
    "    f = ...\n",
    "\n",
    "    return x, f\n",
    "    "
   ]
  },
  {
   "cell_type": "code",
   "execution_count": null,
   "metadata": {},
   "outputs": [],
   "source": [
    "x, f = get_f(3)\n",
    "vars"
   ]
  },
  {
   "cell_type": "code",
   "execution_count": null,
   "metadata": {},
   "outputs": [],
   "source": [
    "f.graph.get_operations()"
   ]
  },
  {
   "cell_type": "markdown",
   "metadata": {},
   "source": [
    "### observe the contour plot of the Rossenbrock function with $N=2$"
   ]
  },
  {
   "cell_type": "code",
   "execution_count": 3,
   "metadata": {},
   "outputs": [
    {
     "name": "stdout",
     "output_type": "stream",
     "text": [
      "Mesh size (40, 40)\n"
     ]
    },
    {
     "data": {
      "image/png": "[encoded data removed]",
      "text/plain": [
       "<matplotlib.figure.Figure at 0x7fbe22d7fd50>"
      ]
     },
     "metadata": {},
     "output_type": "display_data"
    }
   ],
   "source": [
    "def py_rosenbrock(x):\n",
    "    return sum((x[1:]-x[:-1]**2.0)**2.0 + (1-x[:-1])**2.0)\n",
    "\n",
    "def plot_contour(f, x_points=None, y_points=None,  x_range=np.arange(-2, 2, .1), y_range=np.arange(-2, 2, .1),):\n",
    "    X, Y = np.meshgrid(x_range, y_range)\n",
    "    print \"Mesh size\", X.shape\n",
    "    Z = np.array([[f(np.array([X[i,j], Y[i,j]])) for j in range(len(X[i]))] for i in range(len(X))])\n",
    "    CS = plt.contourf(X, Y, Z, 20, cmap=plt.cm.hot)\n",
    "    if x_points is not None:\n",
    "        plt.scatter(x_points, y_points, c=\"white\")\n",
    "    return X, Y, Z\n",
    "\n",
    "plot_contour(py_rosenbrock, x_points=[1], y_points=[1]);"
   ]
  },
  {
   "cell_type": "markdown",
   "metadata": {},
   "source": [
    "## Exercise 2: Create a function to evaluate the previous expression\n",
    "\n",
    "use `sess.run`"
   ]
  },
  {
   "cell_type": "code",
   "execution_count": null,
   "metadata": {},
   "outputs": [],
   "source": [
    "def tf_eval(sess, f, x, x_vals):\n",
    "    assert len(x)==len(x_vals), \"must have the same number of values and variables\"\n",
    "    x_vals = x_vals.reshape(-1,1)\n",
    "    \n",
    "    result = ...\n",
    "    \n",
    "    return result"
   ]
  },
  {
   "cell_type": "code",
   "execution_count": null,
   "metadata": {},
   "outputs": [],
   "source": [
    "x, f = get_f(2)\n",
    "x_vals = np.random.random(2)*10\n",
    "with tf.Session() as sess:\n",
    "    print tf_eval(sess, f, x, x_vals)"
   ]
  },
  {
   "cell_type": "markdown",
   "metadata": {},
   "source": [
    "check with Python implementation for $N=2$"
   ]
  },
  {
   "cell_type": "code",
   "execution_count": null,
   "metadata": {},
   "outputs": [],
   "source": [
    "def py_rosenbrock(x):\n",
    "    return sum((x[1:]-x[:-1]**2.0)**2.0 + (1-x[:-1])**2.0)\n",
    "\n",
    "py_rosenbrock(x_vals)"
   ]
  },
  {
   "cell_type": "markdown",
   "metadata": {},
   "source": [
    "## Exercise 3: Create TF graphs for each partial derivative\n",
    "\n",
    "the following function must return \n",
    "\n",
    "- `x`: a list of $N$ TensorFlow variables\n",
    "- `f`: a TensorFlow expression that uses these variables implementing Rosenbrock's equation\n",
    "- `df`: a list of $N$ TensorFlow expressions each one containing a partial derivative $\\frac{\\partial f}{\\partial x_i}$"
   ]
  },
  {
   "cell_type": "code",
   "execution_count": null,
   "metadata": {},
   "outputs": [],
   "source": [
    "def get_df(N):\n",
    "\n",
    "    tf.reset_default_graph()\n",
    "    \n",
    "    x = ...\n",
    "    f = ...\n",
    "\n",
    "    df = ...\n",
    "    \n",
    "    return x, f, df\n",
    "    "
   ]
  },
  {
   "cell_type": "code",
   "execution_count": null,
   "metadata": {},
   "outputs": [],
   "source": [
    "x, f, df = get_df(3)"
   ]
  },
  {
   "cell_type": "code",
   "execution_count": null,
   "metadata": {},
   "outputs": [],
   "source": [
    "print x\n",
    "print df"
   ]
  },
  {
   "cell_type": "markdown",
   "metadata": {},
   "source": [
    "## Exercise 4: Create function to evaluate gradients at any point\n",
    "\n",
    "**input**:\n",
    "- `sess`: a TF session\n",
    "- `df`: a list of $N$ TF graphs representing the gradients\n",
    "- `x`: a list of $N$ TF variables representing the differentiable variables\n",
    "- `x_vals`: an `np.array` with the shape `(N)` with the point at which the gradient is to be evaluated\n",
    "\n",
    "**output**:\n",
    "- an `np.array` with the shape `(N)`"
   ]
  },
  {
   "cell_type": "code",
   "execution_count": null,
   "metadata": {},
   "outputs": [],
   "source": [
    "def tfg_eval(sess, df, x, x_vals):\n",
    "    assert len(x)==len(x_vals), \"must have the same number of values and variables\"\n",
    "    \n",
    "    x_vals = x_vals.reshape(-1,1)\n",
    "    \n",
    "    result = ...\n",
    "    return result"
   ]
  },
  {
   "cell_type": "code",
   "execution_count": null,
   "metadata": {},
   "outputs": [],
   "source": [
    "x, f, df = get_df(3)\n",
    "x_vals = np.random.random(3)*10\n",
    "with tf.Session() as sess:\n",
    "    print tfg_eval(sess, df, x, x_vals)"
   ]
  },
  {
   "cell_type": "markdown",
   "metadata": {},
   "source": [
    "## Exercise 5: Make a gradient descent to find minima"
   ]
  },
  {
   "cell_type": "code",
   "execution_count": null,
   "metadata": {},
   "outputs": [],
   "source": [
    "def gd(N=2, x_init=None, step_size=0.1, max_steps=300, min_delta=1e-4):\n",
    "    plot = N==2\n",
    "    x, f, df = get_df(N)\n",
    "\n",
    "    r = np.array(x_init).astype(np.float) if x_init is not None else np.random.random(size=N)*3-1.5\n",
    "    r_list = [r.copy()]\n",
    "\n",
    "    if plot:\n",
    "        plot_contour(py_rosenbrock, x_points=[1], y_points=[1]);\n",
    "\n",
    "    with tf.Session() as sess:\n",
    "\n",
    "        for i in range(max_steps):\n",
    "            \n",
    "            # ---------------------------\n",
    "            # YOUR CODE HERE\n",
    "            # ---------------------------\n",
    "            gradient = ... # add here computation of the gradient\n",
    "            # ---------------------------\n",
    "            \n",
    "            delta    = gradient*step_size\n",
    "\n",
    "            if np.linalg.norm(delta)<min_delta:\n",
    "                break\n",
    "\n",
    "            if plot:\n",
    "                plt.arrow(r[0], r[1], -delta[0], -delta[1], head_width=0.05, head_length=0.1, fc='white', ec='white')\n",
    "\n",
    "            r -= delta    # STUDENT\n",
    "            r_list += [r.copy()]\n",
    "    return r"
   ]
  },
  {
   "cell_type": "code",
   "execution_count": null,
   "metadata": {},
   "outputs": [],
   "source": [
    "gd()"
   ]
  },
  {
   "cell_type": "code",
   "execution_count": null,
   "metadata": {},
   "outputs": [],
   "source": []
  }
 ],
 "metadata": {
  "kernelspec": {
   "display_name": "Python 2",
   "language": "python",
   "name": "python2"
  },
  "language_info": {
   "codemirror_mode": {
    "name": "ipython",
    "version": 2
   },
   "file_extension": ".py",
   "mimetype": "text/x-python",
   "name": "python",
   "nbconvert_exporter": "python",
   "pygments_lexer": "ipython2",
   "version": "2.7.14"
  }
 },
 "nbformat": 4,
 "nbformat_minor": 2
}
